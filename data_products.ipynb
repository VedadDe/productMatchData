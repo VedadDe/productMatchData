{
 "cells": [
  {
   "cell_type": "markdown",
   "id": "dc03b885-4943-4d48-978c-61b24c317feb",
   "metadata": {},
   "source": [
    "# Rad sa skupom podataka"
   ]
  },
  {
   "cell_type": "code",
   "execution_count": 1,
   "id": "3b711b01-6612-40fa-8a6f-9231af9746b8",
   "metadata": {},
   "outputs": [],
   "source": [
    "import pandas as pd\n",
    "import numpy as np\n",
    "import matplotlib.pyplot as plt "
   ]
  },
  {
   "cell_type": "code",
   "execution_count": 2,
   "id": "9b12d3e6-fe9f-406b-a772-6ee1b08cea4f",
   "metadata": {},
   "outputs": [
    {
     "data": {
      "text/html": [
       "<div>\n",
       "<style scoped>\n",
       "    .dataframe tbody tr th:only-of-type {\n",
       "        vertical-align: middle;\n",
       "    }\n",
       "\n",
       "    .dataframe tbody tr th {\n",
       "        vertical-align: top;\n",
       "    }\n",
       "\n",
       "    .dataframe thead th {\n",
       "        text-align: right;\n",
       "    }\n",
       "</style>\n",
       "<table border=\"1\" class=\"dataframe\">\n",
       "  <thead>\n",
       "    <tr style=\"text-align: right;\">\n",
       "      <th></th>\n",
       "      <th>1</th>\n",
       "      <th>apple iphone 8 plus 64gb silver</th>\n",
       "      <th>1.1</th>\n",
       "      <th>1.2</th>\n",
       "      <th>Apple iPhone 8 Plus 64GB</th>\n",
       "      <th>2612</th>\n",
       "      <th>Mobile Phones</th>\n",
       "    </tr>\n",
       "  </thead>\n",
       "  <tbody>\n",
       "    <tr>\n",
       "      <th>0</th>\n",
       "      <td>2</td>\n",
       "      <td>apple iphone 8 plus 64 gb spacegrau</td>\n",
       "      <td>2</td>\n",
       "      <td>1</td>\n",
       "      <td>Apple iPhone 8 Plus 64GB</td>\n",
       "      <td>2612</td>\n",
       "      <td>Mobile Phones</td>\n",
       "    </tr>\n",
       "    <tr>\n",
       "      <th>1</th>\n",
       "      <td>3</td>\n",
       "      <td>apple mq8n2b/a iphone 8 plus 64gb 5.5 12mp sim...</td>\n",
       "      <td>3</td>\n",
       "      <td>1</td>\n",
       "      <td>Apple iPhone 8 Plus 64GB</td>\n",
       "      <td>2612</td>\n",
       "      <td>Mobile Phones</td>\n",
       "    </tr>\n",
       "    <tr>\n",
       "      <th>2</th>\n",
       "      <td>4</td>\n",
       "      <td>apple iphone 8 plus 64gb space grey</td>\n",
       "      <td>4</td>\n",
       "      <td>1</td>\n",
       "      <td>Apple iPhone 8 Plus 64GB</td>\n",
       "      <td>2612</td>\n",
       "      <td>Mobile Phones</td>\n",
       "    </tr>\n",
       "    <tr>\n",
       "      <th>3</th>\n",
       "      <td>5</td>\n",
       "      <td>apple iphone 8 plus gold 5.5 64gb 4g unlocked ...</td>\n",
       "      <td>5</td>\n",
       "      <td>1</td>\n",
       "      <td>Apple iPhone 8 Plus 64GB</td>\n",
       "      <td>2612</td>\n",
       "      <td>Mobile Phones</td>\n",
       "    </tr>\n",
       "    <tr>\n",
       "      <th>4</th>\n",
       "      <td>6</td>\n",
       "      <td>apple iphone 8 plus gold 5.5 64gb 4g unlocked ...</td>\n",
       "      <td>6</td>\n",
       "      <td>1</td>\n",
       "      <td>Apple iPhone 8 Plus 64GB</td>\n",
       "      <td>2612</td>\n",
       "      <td>Mobile Phones</td>\n",
       "    </tr>\n",
       "  </tbody>\n",
       "</table>\n",
       "</div>"
      ],
      "text/plain": [
       "   1                    apple iphone 8 plus 64gb silver  1.1  1.2  \\\n",
       "0  2                apple iphone 8 plus 64 gb spacegrau    2    1   \n",
       "1  3  apple mq8n2b/a iphone 8 plus 64gb 5.5 12mp sim...    3    1   \n",
       "2  4                apple iphone 8 plus 64gb space grey    4    1   \n",
       "3  5  apple iphone 8 plus gold 5.5 64gb 4g unlocked ...    5    1   \n",
       "4  6  apple iphone 8 plus gold 5.5 64gb 4g unlocked ...    6    1   \n",
       "\n",
       "   Apple iPhone 8 Plus 64GB  2612  Mobile Phones  \n",
       "0  Apple iPhone 8 Plus 64GB  2612  Mobile Phones  \n",
       "1  Apple iPhone 8 Plus 64GB  2612  Mobile Phones  \n",
       "2  Apple iPhone 8 Plus 64GB  2612  Mobile Phones  \n",
       "3  Apple iPhone 8 Plus 64GB  2612  Mobile Phones  \n",
       "4  Apple iPhone 8 Plus 64GB  2612  Mobile Phones  "
      ]
     },
     "execution_count": 2,
     "metadata": {},
     "output_type": "execute_result"
    }
   ],
   "source": [
    "# učitavanje skupa podataka\n",
    "df = pd.read_excel('C:/Users/delic/Downloads/products_set_labeled (1).xlsx')\n",
    "df.head()\n"
   ]
  },
  {
   "cell_type": "code",
   "execution_count": 3,
   "id": "aaf1715c-89a2-4c09-8fd9-e09ae1d3a009",
   "metadata": {},
   "outputs": [
    {
     "name": "stdout",
     "output_type": "stream",
     "text": [
      "Početni skup podataka ima ukupno  35310 redova\n"
     ]
    }
   ],
   "source": [
    "print(\"Početni skup podataka ima ukupno \", len(df), \"redova\")"
   ]
  },
  {
   "cell_type": "markdown",
   "id": "b3615c26-1ab2-46fc-a2b1-0b4482f1e6dd",
   "metadata": {},
   "source": [
    "Dodajmo nazive kolonama, prema specifikacijama oni slijede"
   ]
  },
  {
   "cell_type": "code",
   "execution_count": 4,
   "id": "8f4dc252-997e-4f97-903a-e19400a0c648",
   "metadata": {},
   "outputs": [],
   "source": [
    "df.columns = [\"product_id\", \"product_title\", \"vendor_id\", \"cluster_id\", \"cluster_label\", \"category_id\", \"category_label\"]"
   ]
  },
  {
   "cell_type": "markdown",
   "id": "525c943e-a94f-4fb4-accf-9d781c69a339",
   "metadata": {},
   "source": [
    " Prikažimo prvih nekoliko redova"
   ]
  },
  {
   "cell_type": "code",
   "execution_count": 5,
   "id": "4c412dc2-c6b7-4580-8e7b-5e17dbe9b1b8",
   "metadata": {},
   "outputs": [
    {
     "data": {
      "text/html": [
       "<div>\n",
       "<style scoped>\n",
       "    .dataframe tbody tr th:only-of-type {\n",
       "        vertical-align: middle;\n",
       "    }\n",
       "\n",
       "    .dataframe tbody tr th {\n",
       "        vertical-align: top;\n",
       "    }\n",
       "\n",
       "    .dataframe thead th {\n",
       "        text-align: right;\n",
       "    }\n",
       "</style>\n",
       "<table border=\"1\" class=\"dataframe\">\n",
       "  <thead>\n",
       "    <tr style=\"text-align: right;\">\n",
       "      <th></th>\n",
       "      <th>product_id</th>\n",
       "      <th>product_title</th>\n",
       "      <th>vendor_id</th>\n",
       "      <th>cluster_id</th>\n",
       "      <th>cluster_label</th>\n",
       "      <th>category_id</th>\n",
       "      <th>category_label</th>\n",
       "    </tr>\n",
       "  </thead>\n",
       "  <tbody>\n",
       "    <tr>\n",
       "      <th>0</th>\n",
       "      <td>2</td>\n",
       "      <td>apple iphone 8 plus 64 gb spacegrau</td>\n",
       "      <td>2</td>\n",
       "      <td>1</td>\n",
       "      <td>Apple iPhone 8 Plus 64GB</td>\n",
       "      <td>2612</td>\n",
       "      <td>Mobile Phones</td>\n",
       "    </tr>\n",
       "    <tr>\n",
       "      <th>1</th>\n",
       "      <td>3</td>\n",
       "      <td>apple mq8n2b/a iphone 8 plus 64gb 5.5 12mp sim...</td>\n",
       "      <td>3</td>\n",
       "      <td>1</td>\n",
       "      <td>Apple iPhone 8 Plus 64GB</td>\n",
       "      <td>2612</td>\n",
       "      <td>Mobile Phones</td>\n",
       "    </tr>\n",
       "    <tr>\n",
       "      <th>2</th>\n",
       "      <td>4</td>\n",
       "      <td>apple iphone 8 plus 64gb space grey</td>\n",
       "      <td>4</td>\n",
       "      <td>1</td>\n",
       "      <td>Apple iPhone 8 Plus 64GB</td>\n",
       "      <td>2612</td>\n",
       "      <td>Mobile Phones</td>\n",
       "    </tr>\n",
       "    <tr>\n",
       "      <th>3</th>\n",
       "      <td>5</td>\n",
       "      <td>apple iphone 8 plus gold 5.5 64gb 4g unlocked ...</td>\n",
       "      <td>5</td>\n",
       "      <td>1</td>\n",
       "      <td>Apple iPhone 8 Plus 64GB</td>\n",
       "      <td>2612</td>\n",
       "      <td>Mobile Phones</td>\n",
       "    </tr>\n",
       "    <tr>\n",
       "      <th>4</th>\n",
       "      <td>6</td>\n",
       "      <td>apple iphone 8 plus gold 5.5 64gb 4g unlocked ...</td>\n",
       "      <td>6</td>\n",
       "      <td>1</td>\n",
       "      <td>Apple iPhone 8 Plus 64GB</td>\n",
       "      <td>2612</td>\n",
       "      <td>Mobile Phones</td>\n",
       "    </tr>\n",
       "  </tbody>\n",
       "</table>\n",
       "</div>"
      ],
      "text/plain": [
       "   product_id                                      product_title  vendor_id  \\\n",
       "0           2                apple iphone 8 plus 64 gb spacegrau          2   \n",
       "1           3  apple mq8n2b/a iphone 8 plus 64gb 5.5 12mp sim...          3   \n",
       "2           4                apple iphone 8 plus 64gb space grey          4   \n",
       "3           5  apple iphone 8 plus gold 5.5 64gb 4g unlocked ...          5   \n",
       "4           6  apple iphone 8 plus gold 5.5 64gb 4g unlocked ...          6   \n",
       "\n",
       "   cluster_id             cluster_label  category_id category_label  \n",
       "0           1  Apple iPhone 8 Plus 64GB         2612  Mobile Phones  \n",
       "1           1  Apple iPhone 8 Plus 64GB         2612  Mobile Phones  \n",
       "2           1  Apple iPhone 8 Plus 64GB         2612  Mobile Phones  \n",
       "3           1  Apple iPhone 8 Plus 64GB         2612  Mobile Phones  \n",
       "4           1  Apple iPhone 8 Plus 64GB         2612  Mobile Phones  "
      ]
     },
     "execution_count": 5,
     "metadata": {},
     "output_type": "execute_result"
    }
   ],
   "source": [
    "df.head()"
   ]
  },
  {
   "cell_type": "code",
   "execution_count": 6,
   "id": "d04ea368-6544-473d-bb1d-fcaed4ef3260",
   "metadata": {},
   "outputs": [
    {
     "name": "stdout",
     "output_type": "stream",
     "text": [
      "35310\n"
     ]
    }
   ],
   "source": [
    "print(len(df))"
   ]
  },
  {
   "cell_type": "markdown",
   "id": "4abac448-58c6-4a68-babc-ecf530a70586",
   "metadata": {},
   "source": [
    "Izbacimo neke od kolona koje nam sigurno neće trebat. Kasnije ćemo izbaciti još nekoliko, koje nam za krajnji skup podataka neće bit potrebne. Ipak, u koraku pretporocesiranja ćemo ih koristiti radi blage optimizacije brzine poređenja"
   ]
  },
  {
   "cell_type": "code",
   "execution_count": 7,
   "id": "7f245b3b-7436-4475-b99d-baba1005a119",
   "metadata": {},
   "outputs": [],
   "source": [
    "#df.drop(columns=['product_id', 'vendor_id', 'cluster_id', 'category_id'], axis=1, inplace=True)  \n",
    "df.drop(columns=['product_id', 'vendor_id'], axis=1, inplace=True)  "
   ]
  },
  {
   "cell_type": "markdown",
   "id": "aba74714-8d91-425b-83d0-186e1af113da",
   "metadata": {},
   "source": [
    "Prikažimo ponovo prvih par redova novodobijenog skupa podataka"
   ]
  },
  {
   "cell_type": "code",
   "execution_count": 8,
   "id": "51fe5166-a1d1-42ce-a5c2-945d71eb42f6",
   "metadata": {},
   "outputs": [
    {
     "data": {
      "text/html": [
       "<div>\n",
       "<style scoped>\n",
       "    .dataframe tbody tr th:only-of-type {\n",
       "        vertical-align: middle;\n",
       "    }\n",
       "\n",
       "    .dataframe tbody tr th {\n",
       "        vertical-align: top;\n",
       "    }\n",
       "\n",
       "    .dataframe thead th {\n",
       "        text-align: right;\n",
       "    }\n",
       "</style>\n",
       "<table border=\"1\" class=\"dataframe\">\n",
       "  <thead>\n",
       "    <tr style=\"text-align: right;\">\n",
       "      <th></th>\n",
       "      <th>product_title</th>\n",
       "      <th>cluster_id</th>\n",
       "      <th>cluster_label</th>\n",
       "      <th>category_id</th>\n",
       "      <th>category_label</th>\n",
       "    </tr>\n",
       "  </thead>\n",
       "  <tbody>\n",
       "    <tr>\n",
       "      <th>0</th>\n",
       "      <td>apple iphone 8 plus 64 gb spacegrau</td>\n",
       "      <td>1</td>\n",
       "      <td>Apple iPhone 8 Plus 64GB</td>\n",
       "      <td>2612</td>\n",
       "      <td>Mobile Phones</td>\n",
       "    </tr>\n",
       "    <tr>\n",
       "      <th>1</th>\n",
       "      <td>apple mq8n2b/a iphone 8 plus 64gb 5.5 12mp sim...</td>\n",
       "      <td>1</td>\n",
       "      <td>Apple iPhone 8 Plus 64GB</td>\n",
       "      <td>2612</td>\n",
       "      <td>Mobile Phones</td>\n",
       "    </tr>\n",
       "    <tr>\n",
       "      <th>2</th>\n",
       "      <td>apple iphone 8 plus 64gb space grey</td>\n",
       "      <td>1</td>\n",
       "      <td>Apple iPhone 8 Plus 64GB</td>\n",
       "      <td>2612</td>\n",
       "      <td>Mobile Phones</td>\n",
       "    </tr>\n",
       "    <tr>\n",
       "      <th>3</th>\n",
       "      <td>apple iphone 8 plus gold 5.5 64gb 4g unlocked ...</td>\n",
       "      <td>1</td>\n",
       "      <td>Apple iPhone 8 Plus 64GB</td>\n",
       "      <td>2612</td>\n",
       "      <td>Mobile Phones</td>\n",
       "    </tr>\n",
       "    <tr>\n",
       "      <th>4</th>\n",
       "      <td>apple iphone 8 plus gold 5.5 64gb 4g unlocked ...</td>\n",
       "      <td>1</td>\n",
       "      <td>Apple iPhone 8 Plus 64GB</td>\n",
       "      <td>2612</td>\n",
       "      <td>Mobile Phones</td>\n",
       "    </tr>\n",
       "  </tbody>\n",
       "</table>\n",
       "</div>"
      ],
      "text/plain": [
       "                                       product_title  cluster_id  \\\n",
       "0                apple iphone 8 plus 64 gb spacegrau           1   \n",
       "1  apple mq8n2b/a iphone 8 plus 64gb 5.5 12mp sim...           1   \n",
       "2                apple iphone 8 plus 64gb space grey           1   \n",
       "3  apple iphone 8 plus gold 5.5 64gb 4g unlocked ...           1   \n",
       "4  apple iphone 8 plus gold 5.5 64gb 4g unlocked ...           1   \n",
       "\n",
       "              cluster_label  category_id category_label  \n",
       "0  Apple iPhone 8 Plus 64GB         2612  Mobile Phones  \n",
       "1  Apple iPhone 8 Plus 64GB         2612  Mobile Phones  \n",
       "2  Apple iPhone 8 Plus 64GB         2612  Mobile Phones  \n",
       "3  Apple iPhone 8 Plus 64GB         2612  Mobile Phones  \n",
       "4  Apple iPhone 8 Plus 64GB         2612  Mobile Phones  "
      ]
     },
     "execution_count": 8,
     "metadata": {},
     "output_type": "execute_result"
    }
   ],
   "source": [
    "df.head()"
   ]
  },
  {
   "cell_type": "markdown",
   "id": "eadbe3a4-92f3-4688-9990-b2aeb9049172",
   "metadata": {},
   "source": [
    "Trenutni skup podataka označava samo poklapanja. Tako da možemo uvesti binarnu varijablu poklapanja i postavit je na true. Ovo radimo jer ćemo kasnije dodati i netačna poklapanja u koraku proširivanja skupa podataka"
   ]
  },
  {
   "cell_type": "code",
   "execution_count": 9,
   "id": "855952b2-b0ec-4b35-b8a2-435557f56998",
   "metadata": {},
   "outputs": [],
   "source": [
    "df['is_match'] = 1"
   ]
  },
  {
   "cell_type": "markdown",
   "id": "a7a9df5d-2f9f-431d-af21-2a7ee57dd8ec",
   "metadata": {},
   "source": [
    "Broj kolona se povećao za jedan. Ispišimo prvih par redova, da se uvjerimo da je promjena primljena"
   ]
  },
  {
   "cell_type": "code",
   "execution_count": 10,
   "id": "a92fac06-2295-4e1d-a3c5-ba0fce8dceaf",
   "metadata": {},
   "outputs": [
    {
     "data": {
      "text/html": [
       "<div>\n",
       "<style scoped>\n",
       "    .dataframe tbody tr th:only-of-type {\n",
       "        vertical-align: middle;\n",
       "    }\n",
       "\n",
       "    .dataframe tbody tr th {\n",
       "        vertical-align: top;\n",
       "    }\n",
       "\n",
       "    .dataframe thead th {\n",
       "        text-align: right;\n",
       "    }\n",
       "</style>\n",
       "<table border=\"1\" class=\"dataframe\">\n",
       "  <thead>\n",
       "    <tr style=\"text-align: right;\">\n",
       "      <th></th>\n",
       "      <th>product_title</th>\n",
       "      <th>cluster_id</th>\n",
       "      <th>cluster_label</th>\n",
       "      <th>category_id</th>\n",
       "      <th>category_label</th>\n",
       "      <th>is_match</th>\n",
       "    </tr>\n",
       "  </thead>\n",
       "  <tbody>\n",
       "    <tr>\n",
       "      <th>0</th>\n",
       "      <td>apple iphone 8 plus 64 gb spacegrau</td>\n",
       "      <td>1</td>\n",
       "      <td>Apple iPhone 8 Plus 64GB</td>\n",
       "      <td>2612</td>\n",
       "      <td>Mobile Phones</td>\n",
       "      <td>1</td>\n",
       "    </tr>\n",
       "    <tr>\n",
       "      <th>1</th>\n",
       "      <td>apple mq8n2b/a iphone 8 plus 64gb 5.5 12mp sim...</td>\n",
       "      <td>1</td>\n",
       "      <td>Apple iPhone 8 Plus 64GB</td>\n",
       "      <td>2612</td>\n",
       "      <td>Mobile Phones</td>\n",
       "      <td>1</td>\n",
       "    </tr>\n",
       "    <tr>\n",
       "      <th>2</th>\n",
       "      <td>apple iphone 8 plus 64gb space grey</td>\n",
       "      <td>1</td>\n",
       "      <td>Apple iPhone 8 Plus 64GB</td>\n",
       "      <td>2612</td>\n",
       "      <td>Mobile Phones</td>\n",
       "      <td>1</td>\n",
       "    </tr>\n",
       "    <tr>\n",
       "      <th>3</th>\n",
       "      <td>apple iphone 8 plus gold 5.5 64gb 4g unlocked ...</td>\n",
       "      <td>1</td>\n",
       "      <td>Apple iPhone 8 Plus 64GB</td>\n",
       "      <td>2612</td>\n",
       "      <td>Mobile Phones</td>\n",
       "      <td>1</td>\n",
       "    </tr>\n",
       "    <tr>\n",
       "      <th>4</th>\n",
       "      <td>apple iphone 8 plus gold 5.5 64gb 4g unlocked ...</td>\n",
       "      <td>1</td>\n",
       "      <td>Apple iPhone 8 Plus 64GB</td>\n",
       "      <td>2612</td>\n",
       "      <td>Mobile Phones</td>\n",
       "      <td>1</td>\n",
       "    </tr>\n",
       "  </tbody>\n",
       "</table>\n",
       "</div>"
      ],
      "text/plain": [
       "                                       product_title  cluster_id  \\\n",
       "0                apple iphone 8 plus 64 gb spacegrau           1   \n",
       "1  apple mq8n2b/a iphone 8 plus 64gb 5.5 12mp sim...           1   \n",
       "2                apple iphone 8 plus 64gb space grey           1   \n",
       "3  apple iphone 8 plus gold 5.5 64gb 4g unlocked ...           1   \n",
       "4  apple iphone 8 plus gold 5.5 64gb 4g unlocked ...           1   \n",
       "\n",
       "              cluster_label  category_id category_label  is_match  \n",
       "0  Apple iPhone 8 Plus 64GB         2612  Mobile Phones         1  \n",
       "1  Apple iPhone 8 Plus 64GB         2612  Mobile Phones         1  \n",
       "2  Apple iPhone 8 Plus 64GB         2612  Mobile Phones         1  \n",
       "3  Apple iPhone 8 Plus 64GB         2612  Mobile Phones         1  \n",
       "4  Apple iPhone 8 Plus 64GB         2612  Mobile Phones         1  "
      ]
     },
     "execution_count": 10,
     "metadata": {},
     "output_type": "execute_result"
    }
   ],
   "source": [
    "df.head()"
   ]
  },
  {
   "cell_type": "code",
   "execution_count": 11,
   "id": "68db300a-2193-4e8b-a350-b145522a9cb7",
   "metadata": {},
   "outputs": [
    {
     "name": "stdout",
     "output_type": "stream",
     "text": [
      "35310\n"
     ]
    }
   ],
   "source": [
    "print(len(df))"
   ]
  },
  {
   "cell_type": "markdown",
   "id": "ae76a64a-cfab-48e3-bd5c-17ad77bb357f",
   "metadata": {},
   "source": [
    "Kreirajmo sad funkciju za proširenje skupa podataka. Bez umanjenja opštosti, skup podataka ćemo proširiti za 100%, odnosno proširit ćemo ga za 35310 redova. Proširenje ćemo izvršiti tako što ćemo svaki product_title povezati sa drugom kataloškom oznakom, ali koja pripada istoj kategoriji. Ovdje nam koriste category_id i cluster_id koje ranije nismo dropali. kataloška vrijednost se bira nasumično iz odgovarajuće kategorije"
   ]
  },
  {
   "cell_type": "code",
   "execution_count": 12,
   "id": "56d55843-6bd0-4d02-b4b8-10732e5cce83",
   "metadata": {},
   "outputs": [],
   "source": [
    "# https://stackoverflow.com/a/48368668\n",
    "def create_false_connections():\n",
    "    false_matches = []\n",
    "    \n",
    "    for i in range(len(df)):\n",
    "        row = df.loc[i]\n",
    "        \n",
    "        does_not_match = df[(df['category_id'] == row['category_id']) & \n",
    "                        (df['cluster_id'] != row['cluster_id'])].sample(1)\n",
    "\n",
    "        \n",
    "            \n",
    "        false_matches.append({\n",
    "                'product_title': row['product_title'],\n",
    "                'cluster_id': does_not_match['cluster_id'].values[0], \n",
    "                'cluster_label': does_not_match['cluster_label'].values[0],  \n",
    "                'category_id': row['category_id'],\n",
    "                'category_label': row['category_label'],\n",
    "                'is_match': 0\n",
    "            })\n",
    "    \n",
    "    return pd.DataFrame(false_matches)\n",
    "\n"
   ]
  },
  {
   "cell_type": "markdown",
   "id": "904dea02-9e6f-4b24-a612-5e1ff50bc1e4",
   "metadata": {},
   "source": [
    "pozovimo funkciju i uvjerimo se u ispravnost novodobijenog skupa podataka. Potom ga spojimo sa početnim"
   ]
  },
  {
   "cell_type": "code",
   "execution_count": 13,
   "id": "0d4a783f-2186-4597-9a0b-20658c0dc85a",
   "metadata": {},
   "outputs": [],
   "source": [
    "test = pd.DataFrame()\n",
    "test = create_false_connections()"
   ]
  },
  {
   "cell_type": "code",
   "execution_count": 14,
   "id": "6e330f99-81d7-415b-a723-fa3be25736ea",
   "metadata": {},
   "outputs": [
    {
     "data": {
      "text/html": [
       "<div>\n",
       "<style scoped>\n",
       "    .dataframe tbody tr th:only-of-type {\n",
       "        vertical-align: middle;\n",
       "    }\n",
       "\n",
       "    .dataframe tbody tr th {\n",
       "        vertical-align: top;\n",
       "    }\n",
       "\n",
       "    .dataframe thead th {\n",
       "        text-align: right;\n",
       "    }\n",
       "</style>\n",
       "<table border=\"1\" class=\"dataframe\">\n",
       "  <thead>\n",
       "    <tr style=\"text-align: right;\">\n",
       "      <th></th>\n",
       "      <th>product_title</th>\n",
       "      <th>cluster_id</th>\n",
       "      <th>cluster_label</th>\n",
       "      <th>category_id</th>\n",
       "      <th>category_label</th>\n",
       "      <th>is_match</th>\n",
       "    </tr>\n",
       "  </thead>\n",
       "  <tbody>\n",
       "    <tr>\n",
       "      <th>0</th>\n",
       "      <td>apple iphone 8 plus 64 gb spacegrau</td>\n",
       "      <td>441</td>\n",
       "      <td>Blackberry Torch 9810</td>\n",
       "      <td>2612</td>\n",
       "      <td>Mobile Phones</td>\n",
       "      <td>0</td>\n",
       "    </tr>\n",
       "    <tr>\n",
       "      <th>1</th>\n",
       "      <td>apple mq8n2b/a iphone 8 plus 64gb 5.5 12mp sim...</td>\n",
       "      <td>1086</td>\n",
       "      <td>Doogee X9 Mini Dual SIM</td>\n",
       "      <td>2612</td>\n",
       "      <td>Mobile Phones</td>\n",
       "      <td>0</td>\n",
       "    </tr>\n",
       "    <tr>\n",
       "      <th>2</th>\n",
       "      <td>apple iphone 8 plus 64gb space grey</td>\n",
       "      <td>222</td>\n",
       "      <td>Google Pixel 2 128GB</td>\n",
       "      <td>2612</td>\n",
       "      <td>Mobile Phones</td>\n",
       "      <td>0</td>\n",
       "    </tr>\n",
       "    <tr>\n",
       "      <th>3</th>\n",
       "      <td>apple iphone 8 plus gold 5.5 64gb 4g unlocked ...</td>\n",
       "      <td>7</td>\n",
       "      <td>Apple iPhone X 256GB</td>\n",
       "      <td>2612</td>\n",
       "      <td>Mobile Phones</td>\n",
       "      <td>0</td>\n",
       "    </tr>\n",
       "    <tr>\n",
       "      <th>4</th>\n",
       "      <td>apple iphone 8 plus gold 5.5 64gb 4g unlocked ...</td>\n",
       "      <td>272</td>\n",
       "      <td>Alcatel 3c Dual SIM</td>\n",
       "      <td>2612</td>\n",
       "      <td>Mobile Phones</td>\n",
       "      <td>0</td>\n",
       "    </tr>\n",
       "  </tbody>\n",
       "</table>\n",
       "</div>"
      ],
      "text/plain": [
       "                                       product_title  cluster_id  \\\n",
       "0                apple iphone 8 plus 64 gb spacegrau         441   \n",
       "1  apple mq8n2b/a iphone 8 plus 64gb 5.5 12mp sim...        1086   \n",
       "2                apple iphone 8 plus 64gb space grey         222   \n",
       "3  apple iphone 8 plus gold 5.5 64gb 4g unlocked ...           7   \n",
       "4  apple iphone 8 plus gold 5.5 64gb 4g unlocked ...         272   \n",
       "\n",
       "             cluster_label  category_id category_label  is_match  \n",
       "0    Blackberry Torch 9810         2612  Mobile Phones         0  \n",
       "1  Doogee X9 Mini Dual SIM         2612  Mobile Phones         0  \n",
       "2     Google Pixel 2 128GB         2612  Mobile Phones         0  \n",
       "3     Apple iPhone X 256GB         2612  Mobile Phones         0  \n",
       "4      Alcatel 3c Dual SIM         2612  Mobile Phones         0  "
      ]
     },
     "execution_count": 14,
     "metadata": {},
     "output_type": "execute_result"
    }
   ],
   "source": [
    "test.head()"
   ]
  },
  {
   "cell_type": "code",
   "execution_count": 15,
   "id": "bcc90159-d5fe-4d16-8778-88af6528f95e",
   "metadata": {},
   "outputs": [],
   "source": [
    "mixed_df = pd.DataFrame()\n",
    "mixed_df = pd.concat([df, test])"
   ]
  },
  {
   "cell_type": "markdown",
   "id": "4d3de394-94d1-4f99-a6df-ec7efe1746b8",
   "metadata": {},
   "source": [
    "Tokom spajanja ovi podaci su smješteni na dno starog dataframe- a. Tako uvjerfimo se u ispravnost spajanja ispisom posljednjih par redova. "
   ]
  },
  {
   "cell_type": "code",
   "execution_count": 16,
   "id": "41b28523-398f-4a55-a1fb-691fc028e493",
   "metadata": {},
   "outputs": [
    {
     "data": {
      "text/html": [
       "<div>\n",
       "<style scoped>\n",
       "    .dataframe tbody tr th:only-of-type {\n",
       "        vertical-align: middle;\n",
       "    }\n",
       "\n",
       "    .dataframe tbody tr th {\n",
       "        vertical-align: top;\n",
       "    }\n",
       "\n",
       "    .dataframe thead th {\n",
       "        text-align: right;\n",
       "    }\n",
       "</style>\n",
       "<table border=\"1\" class=\"dataframe\">\n",
       "  <thead>\n",
       "    <tr style=\"text-align: right;\">\n",
       "      <th></th>\n",
       "      <th>product_title</th>\n",
       "      <th>cluster_id</th>\n",
       "      <th>cluster_label</th>\n",
       "      <th>category_id</th>\n",
       "      <th>category_label</th>\n",
       "      <th>is_match</th>\n",
       "    </tr>\n",
       "  </thead>\n",
       "  <tbody>\n",
       "    <tr>\n",
       "      <th>35305</th>\n",
       "      <td>smeg fab28 60cm retro style right hand hinge f...</td>\n",
       "      <td>46582</td>\n",
       "      <td>Liebherr IK1950 Integrated</td>\n",
       "      <td>2623</td>\n",
       "      <td>Fridges</td>\n",
       "      <td>0</td>\n",
       "    </tr>\n",
       "    <tr>\n",
       "      <th>35306</th>\n",
       "      <td>smeg fab28 60cm retro style left hand hinge fr...</td>\n",
       "      <td>47491</td>\n",
       "      <td>Indesit INTSZ1611</td>\n",
       "      <td>2623</td>\n",
       "      <td>Fridges</td>\n",
       "      <td>0</td>\n",
       "    </tr>\n",
       "    <tr>\n",
       "      <th>35307</th>\n",
       "      <td>smeg fab28 60cm retro style left hand hinge fr...</td>\n",
       "      <td>46336</td>\n",
       "      <td>Beko LSG1545DW White</td>\n",
       "      <td>2623</td>\n",
       "      <td>Fridges</td>\n",
       "      <td>0</td>\n",
       "    </tr>\n",
       "    <tr>\n",
       "      <th>35308</th>\n",
       "      <td>candy 60cm built under larder fridge cru160nek</td>\n",
       "      <td>46429</td>\n",
       "      <td>Amica UC150.3 Integrated</td>\n",
       "      <td>2623</td>\n",
       "      <td>Fridges</td>\n",
       "      <td>0</td>\n",
       "    </tr>\n",
       "    <tr>\n",
       "      <th>35309</th>\n",
       "      <td>neff k4316x7gb built under larder fridge</td>\n",
       "      <td>46215</td>\n",
       "      <td>Gorenje OBRB153R Red</td>\n",
       "      <td>2623</td>\n",
       "      <td>Fridges</td>\n",
       "      <td>0</td>\n",
       "    </tr>\n",
       "  </tbody>\n",
       "</table>\n",
       "</div>"
      ],
      "text/plain": [
       "                                           product_title  cluster_id  \\\n",
       "35305  smeg fab28 60cm retro style right hand hinge f...       46582   \n",
       "35306  smeg fab28 60cm retro style left hand hinge fr...       47491   \n",
       "35307  smeg fab28 60cm retro style left hand hinge fr...       46336   \n",
       "35308     candy 60cm built under larder fridge cru160nek       46429   \n",
       "35309           neff k4316x7gb built under larder fridge       46215   \n",
       "\n",
       "                    cluster_label  category_id category_label  is_match  \n",
       "35305  Liebherr IK1950 Integrated         2623        Fridges         0  \n",
       "35306           Indesit INTSZ1611         2623        Fridges         0  \n",
       "35307        Beko LSG1545DW White         2623        Fridges         0  \n",
       "35308    Amica UC150.3 Integrated         2623        Fridges         0  \n",
       "35309        Gorenje OBRB153R Red         2623        Fridges         0  "
      ]
     },
     "execution_count": 16,
     "metadata": {},
     "output_type": "execute_result"
    }
   ],
   "source": [
    "mixed_df.tail()"
   ]
  },
  {
   "cell_type": "code",
   "execution_count": 17,
   "id": "ea5d417a-27e0-49e2-8a7e-f6b2350ee33d",
   "metadata": {},
   "outputs": [
    {
     "name": "stdout",
     "output_type": "stream",
     "text": [
      "Da je skup podataka proširen za 100% uvjeravamo se računanjem dužine novog skupa podataka:  70620\n"
     ]
    }
   ],
   "source": [
    "print(\"Da je skup podataka proširen za 100% uvjeravamo se računanjem dužine novog skupa podataka: \",len(mixed_df))"
   ]
  },
  {
   "cell_type": "markdown",
   "id": "522fc655-0d67-4fbf-8fe9-526516ddcb34",
   "metadata": {},
   "source": [
    "Kreiramo još jedno proširenje na način da biramo iz druge kategorije ali i kataloške oznake. Ukoliko stavimo da je kategorija različita, time je i kataloška oznaka različita i taj uslov nema potrebe provjeravati. Proširenje, pozivanje i ispis je analogno, te se neće dodatno opisivati. "
   ]
  },
  {
   "cell_type": "code",
   "execution_count": 18,
   "id": "b11599d2-a796-48d0-8b8a-01e0246a9ff0",
   "metadata": {},
   "outputs": [],
   "source": [
    "def create_false_connections_different_category():\n",
    "    false_matches = []\n",
    "    \n",
    "    for i in range(len(df)):\n",
    "        row = df.loc[i]\n",
    "        \n",
    "        does_not_match = df[(df['category_id'] != row['category_id'])].sample(1)\n",
    "\n",
    "        \n",
    "            \n",
    "        false_matches.append({\n",
    "                'product_title': row['product_title'],\n",
    "                'cluster_id': does_not_match['cluster_id'].values[0], \n",
    "                'cluster_label': does_not_match['cluster_label'].values[0],  \n",
    "                'category_id': does_not_match['category_id'].values[0],\n",
    "                'category_label': does_not_match['category_label'].values[0],\n",
    "                'is_match': 0\n",
    "            })\n",
    "    \n",
    "    return pd.DataFrame(false_matches)\n",
    "\n"
   ]
  },
  {
   "cell_type": "code",
   "execution_count": 19,
   "id": "2e1d9e72-ef87-4109-98fd-b258e018d70b",
   "metadata": {},
   "outputs": [],
   "source": [
    "test = pd.DataFrame()\n",
    "test = create_false_connections_different_category()"
   ]
  },
  {
   "cell_type": "code",
   "execution_count": 20,
   "id": "62f18c13-7d32-4e8f-afc9-b1f8f5b75d6a",
   "metadata": {},
   "outputs": [
    {
     "data": {
      "text/html": [
       "<div>\n",
       "<style scoped>\n",
       "    .dataframe tbody tr th:only-of-type {\n",
       "        vertical-align: middle;\n",
       "    }\n",
       "\n",
       "    .dataframe tbody tr th {\n",
       "        vertical-align: top;\n",
       "    }\n",
       "\n",
       "    .dataframe thead th {\n",
       "        text-align: right;\n",
       "    }\n",
       "</style>\n",
       "<table border=\"1\" class=\"dataframe\">\n",
       "  <thead>\n",
       "    <tr style=\"text-align: right;\">\n",
       "      <th></th>\n",
       "      <th>product_title</th>\n",
       "      <th>cluster_id</th>\n",
       "      <th>cluster_label</th>\n",
       "      <th>category_id</th>\n",
       "      <th>category_label</th>\n",
       "      <th>is_match</th>\n",
       "    </tr>\n",
       "  </thead>\n",
       "  <tbody>\n",
       "    <tr>\n",
       "      <th>0</th>\n",
       "      <td>apple iphone 8 plus 64 gb spacegrau</td>\n",
       "      <td>40547</td>\n",
       "      <td>Indesit DSR15BK Black</td>\n",
       "      <td>2619</td>\n",
       "      <td>Dishwashers</td>\n",
       "      <td>0</td>\n",
       "    </tr>\n",
       "    <tr>\n",
       "      <th>1</th>\n",
       "      <td>apple mq8n2b/a iphone 8 plus 64gb 5.5 12mp sim...</td>\n",
       "      <td>6469</td>\n",
       "      <td>Intel Xeon E5-4655 v3 2.9GHz Tray</td>\n",
       "      <td>2615</td>\n",
       "      <td>CPUs</td>\n",
       "      <td>0</td>\n",
       "    </tr>\n",
       "    <tr>\n",
       "      <th>2</th>\n",
       "      <td>apple iphone 8 plus 64gb space grey</td>\n",
       "      <td>4880</td>\n",
       "      <td>Panasonic TX-43FXW654S</td>\n",
       "      <td>2614</td>\n",
       "      <td>TVs</td>\n",
       "      <td>0</td>\n",
       "    </tr>\n",
       "    <tr>\n",
       "      <th>3</th>\n",
       "      <td>apple iphone 8 plus gold 5.5 64gb 4g unlocked ...</td>\n",
       "      <td>45454</td>\n",
       "      <td>Amica EKGC 16156 Integrated</td>\n",
       "      <td>2622</td>\n",
       "      <td>Fridge Freezers</td>\n",
       "      <td>0</td>\n",
       "    </tr>\n",
       "    <tr>\n",
       "      <th>4</th>\n",
       "      <td>apple iphone 8 plus gold 5.5 64gb 4g unlocked ...</td>\n",
       "      <td>5940</td>\n",
       "      <td>Intel Xeon E3-1245 V6 3.7GHz Box</td>\n",
       "      <td>2615</td>\n",
       "      <td>CPUs</td>\n",
       "      <td>0</td>\n",
       "    </tr>\n",
       "  </tbody>\n",
       "</table>\n",
       "</div>"
      ],
      "text/plain": [
       "                                       product_title  cluster_id  \\\n",
       "0                apple iphone 8 plus 64 gb spacegrau       40547   \n",
       "1  apple mq8n2b/a iphone 8 plus 64gb 5.5 12mp sim...        6469   \n",
       "2                apple iphone 8 plus 64gb space grey        4880   \n",
       "3  apple iphone 8 plus gold 5.5 64gb 4g unlocked ...       45454   \n",
       "4  apple iphone 8 plus gold 5.5 64gb 4g unlocked ...        5940   \n",
       "\n",
       "                       cluster_label  category_id   category_label  is_match  \n",
       "0              Indesit DSR15BK Black         2619      Dishwashers         0  \n",
       "1  Intel Xeon E5-4655 v3 2.9GHz Tray         2615             CPUs         0  \n",
       "2             Panasonic TX-43FXW654S         2614              TVs         0  \n",
       "3        Amica EKGC 16156 Integrated         2622  Fridge Freezers         0  \n",
       "4   Intel Xeon E3-1245 V6 3.7GHz Box         2615             CPUs         0  "
      ]
     },
     "execution_count": 20,
     "metadata": {},
     "output_type": "execute_result"
    }
   ],
   "source": [
    "test.head()"
   ]
  },
  {
   "cell_type": "code",
   "execution_count": 21,
   "id": "8841fe6a-7603-4425-aa87-bdef8a13f143",
   "metadata": {},
   "outputs": [
    {
     "name": "stdout",
     "output_type": "stream",
     "text": [
      "35310\n"
     ]
    }
   ],
   "source": [
    "print(len(test))"
   ]
  },
  {
   "cell_type": "markdown",
   "id": "46a56003-7d76-40d5-9c98-a7f5481b2541",
   "metadata": {},
   "source": [
    "Dodan je trenutni dataframe iz razloga što nije smisleno raći npr. a = a + 1. Iako bi ovo radilo, prirodnije je b = a, a = b + 1"
   ]
  },
  {
   "cell_type": "code",
   "execution_count": 22,
   "id": "f547ad2e-faf9-4a37-b0e7-20515bdd6ea0",
   "metadata": {},
   "outputs": [],
   "source": [
    "temp_df = pd.DataFrame()\n",
    "temp_df = pd.concat([mixed_df, test])"
   ]
  },
  {
   "cell_type": "code",
   "execution_count": 23,
   "id": "6fa34e54-6355-445d-82fd-469426955659",
   "metadata": {},
   "outputs": [
    {
     "name": "stdout",
     "output_type": "stream",
     "text": [
      "105930\n"
     ]
    }
   ],
   "source": [
    "print(len(temp_df))"
   ]
  },
  {
   "cell_type": "code",
   "execution_count": 24,
   "id": "f2a65e06-e63f-4068-83f3-78c5183fca08",
   "metadata": {},
   "outputs": [],
   "source": [
    "mixed_df = temp_df"
   ]
  },
  {
   "cell_type": "code",
   "execution_count": 25,
   "id": "7b59d90d-ba8d-43b1-86a6-efdacf9ed9c4",
   "metadata": {},
   "outputs": [
    {
     "name": "stdout",
     "output_type": "stream",
     "text": [
      "105930\n"
     ]
    }
   ],
   "source": [
    "print(len(mixed_df))"
   ]
  },
  {
   "cell_type": "code",
   "execution_count": 26,
   "id": "bb03c449-fb12-42c0-a6c1-bc272fab9af0",
   "metadata": {},
   "outputs": [
    {
     "name": "stdout",
     "output_type": "stream",
     "text": [
      "product_title     True\n",
      "cluster_id        True\n",
      "cluster_label     True\n",
      "category_id       True\n",
      "category_label    True\n",
      "is_match          True\n",
      "dtype: bool\n"
     ]
    }
   ],
   "source": [
    "print(mixed_df.all() == temp_df.all())"
   ]
  },
  {
   "cell_type": "code",
   "execution_count": 27,
   "id": "06756a2d-f7a8-416c-94f5-ae7e77d2c36c",
   "metadata": {},
   "outputs": [
    {
     "data": {
      "text/html": [
       "<div>\n",
       "<style scoped>\n",
       "    .dataframe tbody tr th:only-of-type {\n",
       "        vertical-align: middle;\n",
       "    }\n",
       "\n",
       "    .dataframe tbody tr th {\n",
       "        vertical-align: top;\n",
       "    }\n",
       "\n",
       "    .dataframe thead th {\n",
       "        text-align: right;\n",
       "    }\n",
       "</style>\n",
       "<table border=\"1\" class=\"dataframe\">\n",
       "  <thead>\n",
       "    <tr style=\"text-align: right;\">\n",
       "      <th></th>\n",
       "      <th>product_title</th>\n",
       "      <th>cluster_id</th>\n",
       "      <th>cluster_label</th>\n",
       "      <th>category_id</th>\n",
       "      <th>category_label</th>\n",
       "      <th>is_match</th>\n",
       "    </tr>\n",
       "  </thead>\n",
       "  <tbody>\n",
       "    <tr>\n",
       "      <th>0</th>\n",
       "      <td>apple iphone 8 plus 64 gb spacegrau</td>\n",
       "      <td>1</td>\n",
       "      <td>Apple iPhone 8 Plus 64GB</td>\n",
       "      <td>2612</td>\n",
       "      <td>Mobile Phones</td>\n",
       "      <td>1</td>\n",
       "    </tr>\n",
       "    <tr>\n",
       "      <th>1</th>\n",
       "      <td>apple mq8n2b/a iphone 8 plus 64gb 5.5 12mp sim...</td>\n",
       "      <td>1</td>\n",
       "      <td>Apple iPhone 8 Plus 64GB</td>\n",
       "      <td>2612</td>\n",
       "      <td>Mobile Phones</td>\n",
       "      <td>1</td>\n",
       "    </tr>\n",
       "    <tr>\n",
       "      <th>2</th>\n",
       "      <td>apple iphone 8 plus 64gb space grey</td>\n",
       "      <td>1</td>\n",
       "      <td>Apple iPhone 8 Plus 64GB</td>\n",
       "      <td>2612</td>\n",
       "      <td>Mobile Phones</td>\n",
       "      <td>1</td>\n",
       "    </tr>\n",
       "    <tr>\n",
       "      <th>3</th>\n",
       "      <td>apple iphone 8 plus gold 5.5 64gb 4g unlocked ...</td>\n",
       "      <td>1</td>\n",
       "      <td>Apple iPhone 8 Plus 64GB</td>\n",
       "      <td>2612</td>\n",
       "      <td>Mobile Phones</td>\n",
       "      <td>1</td>\n",
       "    </tr>\n",
       "    <tr>\n",
       "      <th>4</th>\n",
       "      <td>apple iphone 8 plus gold 5.5 64gb 4g unlocked ...</td>\n",
       "      <td>1</td>\n",
       "      <td>Apple iPhone 8 Plus 64GB</td>\n",
       "      <td>2612</td>\n",
       "      <td>Mobile Phones</td>\n",
       "      <td>1</td>\n",
       "    </tr>\n",
       "  </tbody>\n",
       "</table>\n",
       "</div>"
      ],
      "text/plain": [
       "                                       product_title  cluster_id  \\\n",
       "0                apple iphone 8 plus 64 gb spacegrau           1   \n",
       "1  apple mq8n2b/a iphone 8 plus 64gb 5.5 12mp sim...           1   \n",
       "2                apple iphone 8 plus 64gb space grey           1   \n",
       "3  apple iphone 8 plus gold 5.5 64gb 4g unlocked ...           1   \n",
       "4  apple iphone 8 plus gold 5.5 64gb 4g unlocked ...           1   \n",
       "\n",
       "              cluster_label  category_id category_label  is_match  \n",
       "0  Apple iPhone 8 Plus 64GB         2612  Mobile Phones         1  \n",
       "1  Apple iPhone 8 Plus 64GB         2612  Mobile Phones         1  \n",
       "2  Apple iPhone 8 Plus 64GB         2612  Mobile Phones         1  \n",
       "3  Apple iPhone 8 Plus 64GB         2612  Mobile Phones         1  \n",
       "4  Apple iPhone 8 Plus 64GB         2612  Mobile Phones         1  "
      ]
     },
     "execution_count": 27,
     "metadata": {},
     "output_type": "execute_result"
    }
   ],
   "source": [
    "mixed_df.head()"
   ]
  },
  {
   "cell_type": "code",
   "execution_count": 28,
   "id": "3bb7129a-d50f-45ff-846f-b3e5826eaf6d",
   "metadata": {},
   "outputs": [
    {
     "data": {
      "text/html": [
       "<div>\n",
       "<style scoped>\n",
       "    .dataframe tbody tr th:only-of-type {\n",
       "        vertical-align: middle;\n",
       "    }\n",
       "\n",
       "    .dataframe tbody tr th {\n",
       "        vertical-align: top;\n",
       "    }\n",
       "\n",
       "    .dataframe thead th {\n",
       "        text-align: right;\n",
       "    }\n",
       "</style>\n",
       "<table border=\"1\" class=\"dataframe\">\n",
       "  <thead>\n",
       "    <tr style=\"text-align: right;\">\n",
       "      <th></th>\n",
       "      <th>product_title</th>\n",
       "      <th>cluster_id</th>\n",
       "      <th>cluster_label</th>\n",
       "      <th>category_id</th>\n",
       "      <th>category_label</th>\n",
       "      <th>is_match</th>\n",
       "    </tr>\n",
       "  </thead>\n",
       "  <tbody>\n",
       "    <tr>\n",
       "      <th>35305</th>\n",
       "      <td>smeg fab28 60cm retro style right hand hinge f...</td>\n",
       "      <td>39308</td>\n",
       "      <td>Canon IXUS 160</td>\n",
       "      <td>2617</td>\n",
       "      <td>Digital Cameras</td>\n",
       "      <td>0</td>\n",
       "    </tr>\n",
       "    <tr>\n",
       "      <th>35306</th>\n",
       "      <td>smeg fab28 60cm retro style left hand hinge fr...</td>\n",
       "      <td>7237</td>\n",
       "      <td>HP AMD Opteron 6166HE 1.8GHz Socket G34 6400MH...</td>\n",
       "      <td>2615</td>\n",
       "      <td>CPUs</td>\n",
       "      <td>0</td>\n",
       "    </tr>\n",
       "    <tr>\n",
       "      <th>35307</th>\n",
       "      <td>smeg fab28 60cm retro style left hand hinge fr...</td>\n",
       "      <td>6252</td>\n",
       "      <td>Intel Xeon E5-1620V2 3.7GHz Tray</td>\n",
       "      <td>2615</td>\n",
       "      <td>CPUs</td>\n",
       "      <td>0</td>\n",
       "    </tr>\n",
       "    <tr>\n",
       "      <th>35308</th>\n",
       "      <td>candy 60cm built under larder fridge cru160nek</td>\n",
       "      <td>40878</td>\n",
       "      <td>Bosch SMI68TS06E Stainless Steel</td>\n",
       "      <td>2619</td>\n",
       "      <td>Dishwashers</td>\n",
       "      <td>0</td>\n",
       "    </tr>\n",
       "    <tr>\n",
       "      <th>35309</th>\n",
       "      <td>neff k4316x7gb built under larder fridge</td>\n",
       "      <td>599</td>\n",
       "      <td>LG X Cam</td>\n",
       "      <td>2612</td>\n",
       "      <td>Mobile Phones</td>\n",
       "      <td>0</td>\n",
       "    </tr>\n",
       "  </tbody>\n",
       "</table>\n",
       "</div>"
      ],
      "text/plain": [
       "                                           product_title  cluster_id  \\\n",
       "35305  smeg fab28 60cm retro style right hand hinge f...       39308   \n",
       "35306  smeg fab28 60cm retro style left hand hinge fr...        7237   \n",
       "35307  smeg fab28 60cm retro style left hand hinge fr...        6252   \n",
       "35308     candy 60cm built under larder fridge cru160nek       40878   \n",
       "35309           neff k4316x7gb built under larder fridge         599   \n",
       "\n",
       "                                           cluster_label  category_id  \\\n",
       "35305                                     Canon IXUS 160         2617   \n",
       "35306  HP AMD Opteron 6166HE 1.8GHz Socket G34 6400MH...         2615   \n",
       "35307                   Intel Xeon E5-1620V2 3.7GHz Tray         2615   \n",
       "35308                   Bosch SMI68TS06E Stainless Steel         2619   \n",
       "35309                                           LG X Cam         2612   \n",
       "\n",
       "        category_label  is_match  \n",
       "35305  Digital Cameras         0  \n",
       "35306             CPUs         0  \n",
       "35307             CPUs         0  \n",
       "35308      Dishwashers         0  \n",
       "35309    Mobile Phones         0  "
      ]
     },
     "execution_count": 28,
     "metadata": {},
     "output_type": "execute_result"
    }
   ],
   "source": [
    "mixed_df.tail()"
   ]
  },
  {
   "cell_type": "markdown",
   "id": "f4775c42-7407-4dcd-b984-b7a66d7fd14f",
   "metadata": {},
   "source": [
    "Uklonimo i ostatak kolona is dataFrame- a koje nam nisu potrebne, odnosno karakteristike koje nećemo koristiti u treningu. "
   ]
  },
  {
   "cell_type": "code",
   "execution_count": 29,
   "id": "f5469daa-8010-46b1-b1df-cdafe19c20f4",
   "metadata": {},
   "outputs": [],
   "source": [
    "mixed_df.drop(columns=['cluster_id', 'category_id'], axis=1, inplace=True)  \n"
   ]
  },
  {
   "cell_type": "code",
   "execution_count": 30,
   "id": "141cd7a4-1fc0-4d40-be0f-fd0ecd7c5fb7",
   "metadata": {},
   "outputs": [
    {
     "data": {
      "text/html": [
       "<div>\n",
       "<style scoped>\n",
       "    .dataframe tbody tr th:only-of-type {\n",
       "        vertical-align: middle;\n",
       "    }\n",
       "\n",
       "    .dataframe tbody tr th {\n",
       "        vertical-align: top;\n",
       "    }\n",
       "\n",
       "    .dataframe thead th {\n",
       "        text-align: right;\n",
       "    }\n",
       "</style>\n",
       "<table border=\"1\" class=\"dataframe\">\n",
       "  <thead>\n",
       "    <tr style=\"text-align: right;\">\n",
       "      <th></th>\n",
       "      <th>product_title</th>\n",
       "      <th>cluster_label</th>\n",
       "      <th>category_label</th>\n",
       "      <th>is_match</th>\n",
       "    </tr>\n",
       "  </thead>\n",
       "  <tbody>\n",
       "    <tr>\n",
       "      <th>35305</th>\n",
       "      <td>smeg fab28 60cm retro style right hand hinge f...</td>\n",
       "      <td>Canon IXUS 160</td>\n",
       "      <td>Digital Cameras</td>\n",
       "      <td>0</td>\n",
       "    </tr>\n",
       "    <tr>\n",
       "      <th>35306</th>\n",
       "      <td>smeg fab28 60cm retro style left hand hinge fr...</td>\n",
       "      <td>HP AMD Opteron 6166HE 1.8GHz Socket G34 6400MH...</td>\n",
       "      <td>CPUs</td>\n",
       "      <td>0</td>\n",
       "    </tr>\n",
       "    <tr>\n",
       "      <th>35307</th>\n",
       "      <td>smeg fab28 60cm retro style left hand hinge fr...</td>\n",
       "      <td>Intel Xeon E5-1620V2 3.7GHz Tray</td>\n",
       "      <td>CPUs</td>\n",
       "      <td>0</td>\n",
       "    </tr>\n",
       "    <tr>\n",
       "      <th>35308</th>\n",
       "      <td>candy 60cm built under larder fridge cru160nek</td>\n",
       "      <td>Bosch SMI68TS06E Stainless Steel</td>\n",
       "      <td>Dishwashers</td>\n",
       "      <td>0</td>\n",
       "    </tr>\n",
       "    <tr>\n",
       "      <th>35309</th>\n",
       "      <td>neff k4316x7gb built under larder fridge</td>\n",
       "      <td>LG X Cam</td>\n",
       "      <td>Mobile Phones</td>\n",
       "      <td>0</td>\n",
       "    </tr>\n",
       "  </tbody>\n",
       "</table>\n",
       "</div>"
      ],
      "text/plain": [
       "                                           product_title  \\\n",
       "35305  smeg fab28 60cm retro style right hand hinge f...   \n",
       "35306  smeg fab28 60cm retro style left hand hinge fr...   \n",
       "35307  smeg fab28 60cm retro style left hand hinge fr...   \n",
       "35308     candy 60cm built under larder fridge cru160nek   \n",
       "35309           neff k4316x7gb built under larder fridge   \n",
       "\n",
       "                                           cluster_label   category_label  \\\n",
       "35305                                     Canon IXUS 160  Digital Cameras   \n",
       "35306  HP AMD Opteron 6166HE 1.8GHz Socket G34 6400MH...             CPUs   \n",
       "35307                   Intel Xeon E5-1620V2 3.7GHz Tray             CPUs   \n",
       "35308                   Bosch SMI68TS06E Stainless Steel      Dishwashers   \n",
       "35309                                           LG X Cam    Mobile Phones   \n",
       "\n",
       "       is_match  \n",
       "35305         0  \n",
       "35306         0  \n",
       "35307         0  \n",
       "35308         0  \n",
       "35309         0  "
      ]
     },
     "execution_count": 30,
     "metadata": {},
     "output_type": "execute_result"
    }
   ],
   "source": [
    "mixed_df.tail()"
   ]
  },
  {
   "cell_type": "code",
   "execution_count": 31,
   "id": "b2b4e1a7-28fb-4a3c-89cf-6152fe16db92",
   "metadata": {},
   "outputs": [
    {
     "data": {
      "text/html": [
       "<div>\n",
       "<style scoped>\n",
       "    .dataframe tbody tr th:only-of-type {\n",
       "        vertical-align: middle;\n",
       "    }\n",
       "\n",
       "    .dataframe tbody tr th {\n",
       "        vertical-align: top;\n",
       "    }\n",
       "\n",
       "    .dataframe thead th {\n",
       "        text-align: right;\n",
       "    }\n",
       "</style>\n",
       "<table border=\"1\" class=\"dataframe\">\n",
       "  <thead>\n",
       "    <tr style=\"text-align: right;\">\n",
       "      <th></th>\n",
       "      <th>product_title</th>\n",
       "      <th>cluster_label</th>\n",
       "      <th>category_label</th>\n",
       "      <th>is_match</th>\n",
       "    </tr>\n",
       "  </thead>\n",
       "  <tbody>\n",
       "    <tr>\n",
       "      <th>0</th>\n",
       "      <td>apple iphone 8 plus 64 gb spacegrau</td>\n",
       "      <td>Apple iPhone 8 Plus 64GB</td>\n",
       "      <td>Mobile Phones</td>\n",
       "      <td>1</td>\n",
       "    </tr>\n",
       "    <tr>\n",
       "      <th>1</th>\n",
       "      <td>apple mq8n2b/a iphone 8 plus 64gb 5.5 12mp sim...</td>\n",
       "      <td>Apple iPhone 8 Plus 64GB</td>\n",
       "      <td>Mobile Phones</td>\n",
       "      <td>1</td>\n",
       "    </tr>\n",
       "    <tr>\n",
       "      <th>2</th>\n",
       "      <td>apple iphone 8 plus 64gb space grey</td>\n",
       "      <td>Apple iPhone 8 Plus 64GB</td>\n",
       "      <td>Mobile Phones</td>\n",
       "      <td>1</td>\n",
       "    </tr>\n",
       "    <tr>\n",
       "      <th>3</th>\n",
       "      <td>apple iphone 8 plus gold 5.5 64gb 4g unlocked ...</td>\n",
       "      <td>Apple iPhone 8 Plus 64GB</td>\n",
       "      <td>Mobile Phones</td>\n",
       "      <td>1</td>\n",
       "    </tr>\n",
       "    <tr>\n",
       "      <th>4</th>\n",
       "      <td>apple iphone 8 plus gold 5.5 64gb 4g unlocked ...</td>\n",
       "      <td>Apple iPhone 8 Plus 64GB</td>\n",
       "      <td>Mobile Phones</td>\n",
       "      <td>1</td>\n",
       "    </tr>\n",
       "  </tbody>\n",
       "</table>\n",
       "</div>"
      ],
      "text/plain": [
       "                                       product_title  \\\n",
       "0                apple iphone 8 plus 64 gb spacegrau   \n",
       "1  apple mq8n2b/a iphone 8 plus 64gb 5.5 12mp sim...   \n",
       "2                apple iphone 8 plus 64gb space grey   \n",
       "3  apple iphone 8 plus gold 5.5 64gb 4g unlocked ...   \n",
       "4  apple iphone 8 plus gold 5.5 64gb 4g unlocked ...   \n",
       "\n",
       "              cluster_label category_label  is_match  \n",
       "0  Apple iPhone 8 Plus 64GB  Mobile Phones         1  \n",
       "1  Apple iPhone 8 Plus 64GB  Mobile Phones         1  \n",
       "2  Apple iPhone 8 Plus 64GB  Mobile Phones         1  \n",
       "3  Apple iPhone 8 Plus 64GB  Mobile Phones         1  \n",
       "4  Apple iPhone 8 Plus 64GB  Mobile Phones         1  "
      ]
     },
     "execution_count": 31,
     "metadata": {},
     "output_type": "execute_result"
    }
   ],
   "source": [
    "mixed_df.head()"
   ]
  },
  {
   "cell_type": "code",
   "execution_count": 32,
   "id": "fff2a94b-f1ac-40d7-a765-95b6be8ba41d",
   "metadata": {},
   "outputs": [
    {
     "name": "stdout",
     "output_type": "stream",
     "text": [
      "4\n"
     ]
    }
   ],
   "source": [
    "print(len(mixed_df.columns))"
   ]
  },
  {
   "cell_type": "markdown",
   "id": "c1751cf9-3cf1-4b12-95df-a88b4b30862a",
   "metadata": {},
   "source": [
    "### Broj jedinstvenih vrijednosti u konačnom skupu podataka"
   ]
  },
  {
   "cell_type": "markdown",
   "id": "1997284b-f6f0-4018-a7f3-8014fd350c1f",
   "metadata": {},
   "source": [
    "Kako smo kasnije kreirali vještačke podatke (kombinacijom već postojećih), vrijedno je napomenuti da su jedinstveni podaci također identični jedinstvenim podacima iz početnog skupa podataka"
   ]
  },
  {
   "cell_type": "code",
   "execution_count": 33,
   "id": "3ebf0545-412c-44f9-812b-3752e5d34ec9",
   "metadata": {},
   "outputs": [],
   "source": [
    "no_product_title_distinct = mixed_df['product_title'].nunique()\n",
    "no_cluster_label_distinct = mixed_df['cluster_label'].nunique()\n",
    "no_category_label_distinct = mixed_df['category_label'].nunique()\n",
    "no_is_match_distinct = mixed_df['is_match'].nunique()\n",
    "\n"
   ]
  },
  {
   "cell_type": "code",
   "execution_count": 34,
   "id": "6dd32188-aabe-4416-93f2-033da52f8fa6",
   "metadata": {},
   "outputs": [
    {
     "name": "stdout",
     "output_type": "stream",
     "text": [
      "broj jedinstvenih naslova u skupu podataka je:  30992\n",
      "broj jedinstvenih kataloških naslova u skupu podataka je:  12849\n",
      "broj jedinstvenih kategiroja u skupu podataka je:  10\n",
      "broj stanja koja se mogu klasifikovat je 2, kako je problem bin klasifikacija. Ipak provjerimo u datasetu:  2\n"
     ]
    }
   ],
   "source": [
    "print(\"broj jedinstvenih naslova u skupu podataka je: \", no_product_title_distinct)\n",
    "print(\"broj jedinstvenih kataloških naslova u skupu podataka je: \", no_cluster_label_distinct)\n",
    "print(\"broj jedinstvenih kategiroja u skupu podataka je: \", no_category_label_distinct)\n",
    "print(\"broj stanja koja se mogu klasifikovat je 2, kako je problem bin klasifikacija. Ipak provjerimo u datasetu: \", no_is_match_distinct)"
   ]
  },
  {
   "cell_type": "code",
   "execution_count": 35,
   "id": "e5b50501-c044-4c27-a24a-beb90ffc57c0",
   "metadata": {},
   "outputs": [
    {
     "data": {
      "image/png": "[encoded data removed]",
      "text/plain": [
       "<Figure size 640x480 with 1 Axes>"
      ]
     },
     "metadata": {},
     "output_type": "display_data"
    }
   ],
   "source": [
    "plt.bar([\"naslovi\", \"kataloški naslov\", \"kategrioja\"],[no_product_title_distinct, no_cluster_label_distinct, no_category_label_distinct])\n",
    "plt.xlabel('Labele')\n",
    "plt.ylabel('vRIJEDNOSTI')\n",
    "plt.title('Grafik jedinstvenih vrijednsoti za svaku od kategorija u skupu podataka')\n",
    "plt.show()\n"
   ]
  },
  {
   "cell_type": "code",
   "execution_count": 36,
   "id": "36075258-929c-4d94-8457-3b0697d28d1b",
   "metadata": {},
   "outputs": [],
   "source": [
    "no_product_title_total = mixed_df['product_title'].count()\n",
    "no_cluster_label_total = mixed_df['cluster_label'].nunique()\n",
    "no_category_label_total = mixed_df['category_label'].nunique()\n",
    "no_is_match_total = mixed_df['is_match'].nunique()\n",
    "\n"
   ]
  },
  {
   "cell_type": "code",
   "execution_count": 37,
   "id": "c4cbd27e-1c30-41e2-bcc6-1a91d9b42b8c",
   "metadata": {},
   "outputs": [
    {
     "name": "stdout",
     "output_type": "stream",
     "text": [
      "ukupni broj u skupu podataka je:  105930\n",
      "ali oni se i dalje mapiraju u  12849  kataloških naslova\n",
      "Također, i broj kategorija i dalje je:  10\n",
      "I binarnost klasifikacije je zadržana. Ipak provjerimo u datasetu:  2\n"
     ]
    }
   ],
   "source": [
    "print(\"ukupni broj u skupu podataka je: \", no_product_title_total)\n",
    "print(\"ali oni se i dalje mapiraju u \", no_cluster_label_total,\" kataloških naslova\" )\n",
    "print(\"Također, i broj kategorija i dalje je: \", no_category_label_total)\n",
    "print(\"I binarnost klasifikacije je zadržana. Ipak provjerimo u datasetu: \", no_is_match_total)"
   ]
  },
  {
   "cell_type": "code",
   "execution_count": 38,
   "id": "ca5f97c9-480c-4e89-be14-79780d3deace",
   "metadata": {},
   "outputs": [
    {
     "data": {
      "image/png": "[encoded data removed]",
      "text/plain": [
       "<Figure size 640x480 with 1 Axes>"
      ]
     },
     "metadata": {},
     "output_type": "display_data"
    }
   ],
   "source": [
    "plt.bar([\"naslovi\", \"kataloški naslov\", \"kategrioja\"],[no_product_title_total, no_cluster_label_total, no_category_label_total])\n",
    "plt.xlabel('Labele')\n",
    "plt.ylabel('vRIJEDNOSTI')\n",
    "plt.title('Grafik krajnjih vrijednsoti za svaku od kategorija u skupu podataka, nakon sintetiziranja')\n",
    "plt.show()\n"
   ]
  },
  {
   "cell_type": "code",
   "execution_count": 39,
   "id": "f04d1aa8-230d-4f87-ac91-a68f48e27e23",
   "metadata": {},
   "outputs": [
    {
     "name": "stdout",
     "output_type": "stream",
     "text": [
      "['product_title', 'cluster_label', 'category_label', 'is_match']\n"
     ]
    }
   ],
   "source": [
    "labels=[]\n",
    "\n",
    "for i in range(len(mixed_df.columns)):\n",
    "    labels.append(mixed_df.columns[i])\n",
    "print(labels)\n"
   ]
  },
  {
   "cell_type": "markdown",
   "id": "54bde8ae-0934-437b-b879-c56dde54e4ff",
   "metadata": {},
   "source": [
    "# Implementacija modela u nastavku"
   ]
  },
  {
   "cell_type": "code",
   "execution_count": 40,
   "id": "6ad1947a-543f-48b5-b66d-3782e95a4d28",
   "metadata": {},
   "outputs": [
    {
     "name": "stderr",
     "output_type": "stream",
     "text": [
      "C:\\Users\\delic\\anaconda3\\envs\\master\\lib\\site-packages\\sentence_transformers\\cross_encoder\\CrossEncoder.py:11: TqdmWarning: IProgress not found. Please update jupyter and ipywidgets. See https://ipywidgets.readthedocs.io/en/stable/user_install.html\n",
      "  from tqdm.autonotebook import tqdm, trange\n"
     ]
    }
   ],
   "source": [
    "from sklearn.model_selection import train_test_split\n",
    "from sentence_transformers import SentenceTransformer\n",
    "import torch\n"
   ]
  },
  {
   "cell_type": "code",
   "execution_count": 41,
   "id": "9e805632-9c0e-4031-9e0e-5e62bd84b953",
   "metadata": {},
   "outputs": [
    {
     "data": {
      "text/plain": [
       "<bound method NDFrame.head of                                            product_title  \\\n",
       "0                    apple iphone 8 plus 64 gb spacegrau   \n",
       "1      apple mq8n2b/a iphone 8 plus 64gb 5.5 12mp sim...   \n",
       "2                    apple iphone 8 plus 64gb space grey   \n",
       "3      apple iphone 8 plus gold 5.5 64gb 4g unlocked ...   \n",
       "4      apple iphone 8 plus gold 5.5 64gb 4g unlocked ...   \n",
       "...                                                  ...   \n",
       "35305  smeg fab28 60cm retro style right hand hinge f...   \n",
       "35306  smeg fab28 60cm retro style left hand hinge fr...   \n",
       "35307  smeg fab28 60cm retro style left hand hinge fr...   \n",
       "35308     candy 60cm built under larder fridge cru160nek   \n",
       "35309           neff k4316x7gb built under larder fridge   \n",
       "\n",
       "                                           cluster_label   category_label  \\\n",
       "0                               Apple iPhone 8 Plus 64GB    Mobile Phones   \n",
       "1                               Apple iPhone 8 Plus 64GB    Mobile Phones   \n",
       "2                               Apple iPhone 8 Plus 64GB    Mobile Phones   \n",
       "3                               Apple iPhone 8 Plus 64GB    Mobile Phones   \n",
       "4                               Apple iPhone 8 Plus 64GB    Mobile Phones   \n",
       "...                                                  ...              ...   \n",
       "35305                                     Canon IXUS 160  Digital Cameras   \n",
       "35306  HP AMD Opteron 6166HE 1.8GHz Socket G34 6400MH...             CPUs   \n",
       "35307                   Intel Xeon E5-1620V2 3.7GHz Tray             CPUs   \n",
       "35308                   Bosch SMI68TS06E Stainless Steel      Dishwashers   \n",
       "35309                                           LG X Cam    Mobile Phones   \n",
       "\n",
       "       is_match  \n",
       "0             1  \n",
       "1             1  \n",
       "2             1  \n",
       "3             1  \n",
       "4             1  \n",
       "...         ...  \n",
       "35305         0  \n",
       "35306         0  \n",
       "35307         0  \n",
       "35308         0  \n",
       "35309         0  \n",
       "\n",
       "[105930 rows x 4 columns]>"
      ]
     },
     "execution_count": 41,
     "metadata": {},
     "output_type": "execute_result"
    }
   ],
   "source": [
    "mixed_df.head"
   ]
  },
  {
   "cell_type": "code",
   "execution_count": 42,
   "id": "15bd63c1-02d2-443f-97da-5d6449036c17",
   "metadata": {},
   "outputs": [],
   "source": [
    "#funkcija za izvlačenje kolona iz svakog reda. \n",
    "def extract_col(X, i):\n",
    "    col=[]\n",
    "    for row in X:\n",
    "        col.append(row[i])\n",
    "    return col"
   ]
  },
  {
   "cell_type": "markdown",
   "id": "bcae09f0-2401-460d-bcc1-3a2311653fbb",
   "metadata": {},
   "source": [
    "samo će prve dvije kolone činiti karakteristike skupa podataka za obuku, test i validaciju. Pravimo matricu [nx2] gdje je n broj redova koje ima kombinovani dataframe. To bi trebalo biti 35k+35k+35k ~ 105k redova"
   ]
  },
  {
   "cell_type": "code",
   "execution_count": 43,
   "id": "cc67dc1d-c7e7-41be-b56c-2942517e328f",
   "metadata": {},
   "outputs": [],
   "source": [
    "X = mixed_df[[\"product_title\", \"cluster_label\"]].values"
   ]
  },
  {
   "cell_type": "code",
   "execution_count": 44,
   "id": "61813250-4348-45a6-9161-5b64588ba324",
   "metadata": {},
   "outputs": [
    {
     "name": "stdout",
     "output_type": "stream",
     "text": [
      "[['apple iphone 8 plus 64 gb spacegrau' 'Apple iPhone 8 Plus 64GB']\n",
      " ['apple mq8n2b/a iphone 8 plus 64gb 5.5 12mp sim free smartphone in gold'\n",
      "  'Apple iPhone 8 Plus 64GB']\n",
      " ['apple iphone 8 plus 64gb space grey' 'Apple iPhone 8 Plus 64GB']\n",
      " ...\n",
      " ['smeg fab28 60cm retro style left hand hinge fridge with icebox pink'\n",
      "  'Intel Xeon E5-1620V2 3.7GHz Tray']\n",
      " ['candy 60cm built under larder fridge cru160nek'\n",
      "  'Bosch SMI68TS06E Stainless Steel']\n",
      " ['neff k4316x7gb built under larder fridge' 'LG X Cam']]\n"
     ]
    }
   ],
   "source": [
    "print(X)"
   ]
  },
  {
   "cell_type": "code",
   "execution_count": 45,
   "id": "248c7ca0-3d01-48f5-b40e-1ec4cade64d1",
   "metadata": {},
   "outputs": [
    {
     "name": "stdout",
     "output_type": "stream",
     "text": [
      "105930\n"
     ]
    }
   ],
   "source": [
    "print(len(mixed_df))"
   ]
  },
  {
   "cell_type": "markdown",
   "id": "44a7a4bc-6bd0-460e-878c-2ac82b819e02",
   "metadata": {},
   "source": [
    "Izvlačimo kao labelu, odnosno temeljnu istinu vrijednost posljednje kolone iz dataframe- a"
   ]
  },
  {
   "cell_type": "code",
   "execution_count": 46,
   "id": "301b5d4c-e50b-46e3-981f-6a7530ed1dde",
   "metadata": {},
   "outputs": [],
   "source": [
    "y = mixed_df[[\"is_match\"]].values"
   ]
  },
  {
   "cell_type": "code",
   "execution_count": 47,
   "id": "5b1371ee-0342-4615-85c8-36ff13764246",
   "metadata": {},
   "outputs": [
    {
     "name": "stdout",
     "output_type": "stream",
     "text": [
      "[[1]\n",
      " [1]\n",
      " [1]\n",
      " ...\n",
      " [0]\n",
      " [0]\n",
      " [0]]\n"
     ]
    }
   ],
   "source": [
    "print(y)"
   ]
  },
  {
   "cell_type": "code",
   "execution_count": 48,
   "id": "b74adcac-8fd1-4bea-bb43-e189b89a029e",
   "metadata": {},
   "outputs": [
    {
     "name": "stdout",
     "output_type": "stream",
     "text": [
      "105930\n",
      "True\n"
     ]
    }
   ],
   "source": [
    "print(len(y))\n",
    "print(len(y) == len(X))"
   ]
  },
  {
   "cell_type": "markdown",
   "id": "0047acaf-80b5-4233-a212-342c574698bb",
   "metadata": {},
   "source": [
    "Vršimo podjelu skupa za trening, test i validaciju u omjeru 60:20:20. Također, kako su nam na početku svi spojevi ispravni, potrebno je izmješati radi ispravnog treninga. To radimo kako ne bi trenirali npr sa 100% ispravnih spojeva i 20% neispravnih, a potom testirali samo na neispravnim. Izbjegavanje ovog koraka bi moglo značajno utjecati na generalizaciju. Također, random seed je stavljen kako bi na različitim pokretanjima rezultati bili konzistentni."
   ]
  },
  {
   "cell_type": "code",
   "execution_count": 49,
   "id": "8ad4da82-0769-4797-88ba-50c5a163b598",
   "metadata": {},
   "outputs": [],
   "source": [
    "X_train, X_test, y_train, y_test = train_test_split(X, y, test_size=0.4, random_state=29, shuffle=True)"
   ]
  },
  {
   "cell_type": "code",
   "execution_count": 50,
   "id": "93a07b2b-8d4b-4a5f-bc5a-f50960a922a7",
   "metadata": {},
   "outputs": [],
   "source": [
    "X_val, X_test, y_val, y_test  = train_test_split(X_test, y_test, test_size=0.5, random_state=29, shuffle=True)\n"
   ]
  },
  {
   "cell_type": "code",
   "execution_count": 51,
   "id": "baea456c-b17f-446b-b434-9699415235b7",
   "metadata": {},
   "outputs": [
    {
     "name": "stdout",
     "output_type": "stream",
     "text": [
      "[['hoover hbrup160k integrated undercounter fridge'\n",
      "  'Zanussi ZFC41400WA White']\n",
      " ['nokia n82 mobile phone' 'Apple iPhone 7 128GB']\n",
      " ['intel celeron g4920 3.2 ghz 2 cores 2 threads 2 mb cache lga1151 socket oem'\n",
      "  'Intel Core i7-6700T 2.8 GHz Tray']\n",
      " ...\n",
      " ['siemens ki 22lad40 a 99kwh eek a skala a bis d' 'Samsung UE75NU8000']\n",
      " ['samsung rs68n8670s9 american style rs8000 fridge freezer with ice water stainless steel'\n",
      "  'Bosch WAW325E27']\n",
      " ['candy cdpe6350b freestanding dishwasher 15 place setting black'\n",
      "  'Samsung RZ32M71207F Stainless Steel']]\n"
     ]
    }
   ],
   "source": [
    "print(X_train)"
   ]
  },
  {
   "cell_type": "code",
   "execution_count": 52,
   "id": "06579149-a8b7-4c53-a4af-4d56fde625f5",
   "metadata": {},
   "outputs": [
    {
     "name": "stdout",
     "output_type": "stream",
     "text": [
      "[[0]\n",
      " [0]\n",
      " [0]\n",
      " ...\n",
      " [0]\n",
      " [0]\n",
      " [0]]\n"
     ]
    }
   ],
   "source": [
    "print(y_train)"
   ]
  },
  {
   "cell_type": "markdown",
   "id": "6439b414-274d-46ee-bfb7-34b086f78c2b",
   "metadata": {},
   "source": [
    "Sve nule, malo čudno. provjerimo ima li ijedan ispravan spoj"
   ]
  },
  {
   "cell_type": "code",
   "execution_count": 53,
   "id": "dba25a69-612b-4a04-a905-5b6d839cf05b",
   "metadata": {},
   "outputs": [
    {
     "name": "stdout",
     "output_type": "stream",
     "text": [
      "True\n"
     ]
    }
   ],
   "source": [
    "print(y_train.any()==1)"
   ]
  },
  {
   "cell_type": "code",
   "execution_count": 54,
   "id": "4f36dc2c-bd6e-496e-8fa2-5b4054e6df3a",
   "metadata": {},
   "outputs": [
    {
     "name": "stdout",
     "output_type": "stream",
     "text": [
      "21253\n"
     ]
    }
   ],
   "source": [
    "print((y_train == 1).sum())"
   ]
  },
  {
   "cell_type": "code",
   "execution_count": 55,
   "id": "c432e011-e355-41c5-9766-9609bed68c52",
   "metadata": {},
   "outputs": [
    {
     "name": "stdout",
     "output_type": "stream",
     "text": [
      "63558\n"
     ]
    }
   ],
   "source": [
    "print(len(X_train))"
   ]
  },
  {
   "cell_type": "code",
   "execution_count": 56,
   "id": "a0429e7e-e8cc-46d5-959e-2e70395e9a58",
   "metadata": {},
   "outputs": [
    {
     "name": "stdout",
     "output_type": "stream",
     "text": [
      "63558\n"
     ]
    }
   ],
   "source": [
    "print(len(y_train))"
   ]
  },
  {
   "cell_type": "code",
   "execution_count": 57,
   "id": "5de0bd44-3131-40cd-bc85-070da3fd6916",
   "metadata": {},
   "outputs": [
    {
     "name": "stdout",
     "output_type": "stream",
     "text": [
      "21186\n"
     ]
    }
   ],
   "source": [
    "print(len(X_test))"
   ]
  },
  {
   "cell_type": "code",
   "execution_count": 58,
   "id": "14bd2323-9d72-4f3c-8371-517e1d348a0d",
   "metadata": {},
   "outputs": [
    {
     "name": "stdout",
     "output_type": "stream",
     "text": [
      "21186\n"
     ]
    }
   ],
   "source": [
    "print(len(X_val))"
   ]
  },
  {
   "cell_type": "code",
   "execution_count": 59,
   "id": "801f2638-ee30-4e5b-afdf-c1a21bcfd6a7",
   "metadata": {},
   "outputs": [
    {
     "name": "stdout",
     "output_type": "stream",
     "text": [
      "21186\n"
     ]
    }
   ],
   "source": [
    "print(len(y_test))"
   ]
  },
  {
   "cell_type": "code",
   "execution_count": 60,
   "id": "7339fdca-f116-428b-a0ee-2838298d0513",
   "metadata": {},
   "outputs": [
    {
     "name": "stdout",
     "output_type": "stream",
     "text": [
      "21186\n"
     ]
    }
   ],
   "source": [
    "print(len(y_val))"
   ]
  },
  {
   "cell_type": "code",
   "execution_count": 61,
   "id": "483e00a4-4584-42f3-af86-3c07a0cb0730",
   "metadata": {},
   "outputs": [
    {
     "name": "stdout",
     "output_type": "stream",
     "text": [
      "[[0]\n",
      " [0]\n",
      " [1]\n",
      " ...\n",
      " [0]\n",
      " [0]\n",
      " [0]]\n"
     ]
    }
   ],
   "source": [
    "print(y_test)"
   ]
  },
  {
   "cell_type": "code",
   "execution_count": 62,
   "id": "55c7f454-27ac-4661-9be7-fa4b59f689ea",
   "metadata": {},
   "outputs": [
    {
     "name": "stdout",
     "output_type": "stream",
     "text": [
      "[[0]\n",
      " [0]\n",
      " [1]\n",
      " ...\n",
      " [0]\n",
      " [0]\n",
      " [1]]\n"
     ]
    }
   ],
   "source": [
    "print(y_val)"
   ]
  },
  {
   "cell_type": "markdown",
   "id": "b07591cd-6995-4a33-b98a-57e7a932439f",
   "metadata": {},
   "source": [
    "Korištenje pretreniranih embedinga je istraženo na internetu, te shodno dome implementirano. U komentarima se dostavljaju reference na zvaničnu dokumentacjiu koja je korištena "
   ]
  },
  {
   "cell_type": "code",
   "execution_count": 63,
   "id": "5ca474a4-5ac2-41a7-9951-f61000e39f31",
   "metadata": {},
   "outputs": [
    {
     "name": "stderr",
     "output_type": "stream",
     "text": [
      "C:\\Users\\delic\\anaconda3\\envs\\master\\lib\\site-packages\\huggingface_hub\\file_download.py:1132: FutureWarning: `resume_download` is deprecated and will be removed in version 1.0.0. Downloads always resume when possible. If you want to force a new download, use `force_download=True`.\n",
      "  warnings.warn(\n"
     ]
    }
   ],
   "source": [
    "import numpy as np\n",
    "from sentence_transformers import SentenceTransformer\n",
    "#https://huggingface.co/sentence-transformers/all-MiniLM-L6-v2\n",
    "#https://sbert.net/\n",
    "model = SentenceTransformer('sentence-transformers/all-MiniLM-L6-v2')\n",
    "\n"
   ]
  },
  {
   "cell_type": "code",
   "execution_count": 64,
   "id": "7d724ddb-6fb0-4209-9360-aad0697accc4",
   "metadata": {},
   "outputs": [],
   "source": [
    "#test = model.encode(extract_col(X_train, 0))"
   ]
  },
  {
   "cell_type": "markdown",
   "id": "63a478a0-d796-4a08-aba8-fb40fbd9d1f5",
   "metadata": {},
   "source": [
    "Provjerimo ispravnost funkcjie za izvlačenje kolona koja je na početku kreirana. "
   ]
  },
  {
   "cell_type": "code",
   "execution_count": 65,
   "id": "36c7013d-076b-4c56-bb0d-1824fc0d92be",
   "metadata": {},
   "outputs": [
    {
     "name": "stdout",
     "output_type": "stream",
     "text": [
      "['hoover hbrup160k integrated undercounter fridge', 'nokia n82 mobile phone', 'intel celeron g4920 3.2 ghz 2 cores 2 threads 2 mb cache lga1151 socket oem', 'archos core 57s smartphone hybrid slot 16 gb 14.5 cm 5.72 8 mpix android 7.0 nougat black/blue', 'neff einbau k lteger t kn436a3', 'zanussi free standing refrigerator in white', 'panasonic lumix dc gx9 body black', 'samsung ue75nu7100 75 ultra hd certified hdr smart 4k tv', 'cda vm130ss/vm130ss', 'neff ki1813f30g built in larder fridge 177x54cm hydrofresh bottle rack']\n"
     ]
    }
   ],
   "source": [
    "print(extract_col(X_train, 0)[0:10])"
   ]
  },
  {
   "cell_type": "code",
   "execution_count": 66,
   "id": "9cdde8a7-1541-48b1-8a46-5cf415d02051",
   "metadata": {},
   "outputs": [
    {
     "name": "stdout",
     "output_type": "stream",
     "text": [
      "['Zanussi ZFC41400WA White', 'Apple iPhone 7 128GB', 'Intel Core i7-6700T 2.8 GHz Tray', 'Smeg FAB28QNE1 Black', 'Montpellier MAB340R Red', 'Gorenje ORB153CO Brown', 'Samsung RB29FWRNDSS Stainless Steel', 'Samsung UE75NU7100', 'Intel Xeon Silver 4114T', 'Liebherr IK1950 Integrated']\n"
     ]
    }
   ],
   "source": [
    "print(extract_col(X_train, 1)[0:10])"
   ]
  },
  {
   "cell_type": "code",
   "execution_count": 67,
   "id": "9d4884db-3656-4f59-96d7-c9bc9738203f",
   "metadata": {},
   "outputs": [],
   "source": [
    "#print (test.all() and X_train_embeddings_productTitle.all())"
   ]
  },
  {
   "cell_type": "code",
   "execution_count": 68,
   "id": "9f5e106c-afea-4cc9-9824-23cc0cc45ca7",
   "metadata": {},
   "outputs": [],
   "source": [
    "X_train_embeddings_productTitle = model.encode(extract_col(X_train, 0))\n",
    "X_train_embeddings_clusterLabel = model.encode(extract_col(X_train, 1))\n",
    "\n",
    "# Sigurno, linija koja je najviše vremena iziskivala. Tokom rada problem je bio sa dimenzionalnošću, ali i način dodavanja novih karakteristika \n",
    "# (odnosno njihovo spajanje). Nakon istraživanja otkrivena je metoda concatenated, ali i obavezno korištenje axis = 1. Korištenje drugih metoda\n",
    "# i parametara rezultiralo je ili problemu dimenzionalnosti ili lošoj generalizaciji (tačnost od oko 55%).\n",
    "\n",
    "X_train_embeddings = np.concatenate((X_train_embeddings_productTitle, X_train_embeddings_clusterLabel), axis = 1)\n",
    "\n"
   ]
  },
  {
   "cell_type": "code",
   "execution_count": 69,
   "id": "1cab8461-a00d-4c66-a4fe-fc06033e6fcb",
   "metadata": {},
   "outputs": [],
   "source": [
    "X_test_embeddings_productTitle = model.encode(extract_col(X_test, 0))\n",
    "X_test_embeddings_clusterLabel = model.encode(extract_col(X_test, 1))\n",
    "X_test_embeddings = np.concatenate((X_test_embeddings_productTitle, X_test_embeddings_clusterLabel), axis = 1)\n"
   ]
  },
  {
   "cell_type": "code",
   "execution_count": 70,
   "id": "82f7aa25-19d5-4dca-93fd-701a69961c9d",
   "metadata": {},
   "outputs": [],
   "source": [
    "X_val_embeddings_productTitle = model.encode(extract_col(X_val, 0))\n",
    "X_val_embeddings_clusterLabel = model.encode(extract_col(X_val, 1))\n",
    "X_val_embeddings = np.concatenate((X_val_embeddings_productTitle, X_val_embeddings_clusterLabel), axis = 1)"
   ]
  },
  {
   "cell_type": "code",
   "execution_count": 71,
   "id": "12d826e3-ab99-4ef3-87dd-bcd4bb698e99",
   "metadata": {},
   "outputs": [
    {
     "name": "stdout",
     "output_type": "stream",
     "text": [
      "[[-0.08941688  0.09833    -0.10455388 ... -0.03773119 -0.0090763\n",
      "   0.02347343]\n",
      " [-0.09894917  0.08886585  0.09292618 ... -0.02883487 -0.00639899\n",
      "   0.00977279]\n",
      " [-0.06478919 -0.01372394 -0.00552595 ... -0.0336456  -0.01863891\n",
      "   0.02545566]\n",
      " ...\n",
      " [-0.07435924  0.14397897 -0.03430583 ... -0.01276639 -0.06495501\n",
      "   0.0443458 ]\n",
      " [-0.19420885  0.03657375 -0.0091644  ...  0.01481783 -0.00029773\n",
      "  -0.00031926]\n",
      " [-0.04876103  0.05688021  0.0181273  ... -0.08946097  0.0233227\n",
      "   0.01911664]]\n"
     ]
    }
   ],
   "source": [
    "print(X_train_embeddings)"
   ]
  },
  {
   "cell_type": "code",
   "execution_count": 72,
   "id": "4f62dbec-77ab-41dd-b466-1c6f1f5d40a5",
   "metadata": {},
   "outputs": [
    {
     "name": "stdout",
     "output_type": "stream",
     "text": [
      "768\n"
     ]
    }
   ],
   "source": [
    "print(len(X_train_embeddings[0]))"
   ]
  },
  {
   "cell_type": "code",
   "execution_count": 73,
   "id": "060a25dc-191b-4ddf-a240-090cce193996",
   "metadata": {},
   "outputs": [
    {
     "name": "stdout",
     "output_type": "stream",
     "text": [
      "768\n"
     ]
    }
   ],
   "source": [
    "print(len(X_train_embeddings[2]))"
   ]
  },
  {
   "cell_type": "code",
   "execution_count": 74,
   "id": "5fa06339-f147-47e6-b522-48205694ed7e",
   "metadata": {},
   "outputs": [
    {
     "name": "stdout",
     "output_type": "stream",
     "text": [
      "(63558, 768)\n"
     ]
    }
   ],
   "source": [
    "print(X_train_embeddings.shape)"
   ]
  },
  {
   "cell_type": "code",
   "execution_count": 75,
   "id": "19551df3-5d33-4b53-93ec-71f0824e7109",
   "metadata": {},
   "outputs": [
    {
     "name": "stdout",
     "output_type": "stream",
     "text": [
      "768\n"
     ]
    }
   ],
   "source": [
    "print(len(X_train_embeddings[2000]))"
   ]
  },
  {
   "cell_type": "markdown",
   "id": "92ba2853-c0cd-4fac-b074-7ee7d31b52e9",
   "metadata": {},
   "source": [
    "Definicija modela, osnovni tip neuralne mreže. nakon definisanja, stavljeni su dense - gusto povezani slojevi. Njih 4, prvi ima 32 neurona i duplo je manji u odnosu na standardne, ipak za ovaj zadatak se pokazao uspješnim. Isti broj neurona je korišten, kako model ne bi bio prejak u odnosu na skup podataka i da ne bi došlo do preprilagođavanja. Relu aktivacija je korištena jer predstavlja svojevrsni standard, a iz teorije je poznato da neuralne mreže sa ReLU aktivacijskom funkcijom uče znatno brže u odnosu na sigmoidnu i tanh. Dropout regularizacijom se nastojalo smanjiti preprilagođavanje. Na kraju je korištena sigmoidna aktivaciona funkcija, iako sam u ranijim arhitekturama na kojima sam radio u završnom sloju koristio softmax ( koja preslikava k stvarnih vrijednosti u k vjerovatnoća). Ovdje sam se odlučio za sigmoid obzirom da je pogodnija za zadatke binarne klasifikacije. "
   ]
  },
  {
   "cell_type": "code",
   "execution_count": 76,
   "id": "3591eb1a-5b5f-48f7-880a-b5c72458afd3",
   "metadata": {},
   "outputs": [],
   "source": [
    "import tensorflow as tf\n",
    "from tensorflow.keras.models import Sequential\n",
    "from tensorflow.keras.layers import Dense, Dropout\n",
    "\n",
    "# \n",
    "model1 = Sequential()\n",
    "model1.add(Dense(32, activation='relu'))\n",
    "model1.add(Dropout(0.5))\n",
    "model1.add(Dense(16, activation='relu'))\n",
    "model1.add(Dropout(0.5))\n",
    "model1.add(Dense(8, activation='relu'))\n",
    "model1.add(Dropout(0.5))\n",
    "model1.add(Dense(1, activation='sigmoid'))\n",
    "\n"
   ]
  },
  {
   "cell_type": "markdown",
   "id": "8ccf2545-f2fa-49ca-920e-318255e9a338",
   "metadata": {},
   "source": [
    "korišten adam optimajzer i binarna kros entropija za funkciju gubitka, koja je standard za binarnu klasifikaciju. "
   ]
  },
  {
   "cell_type": "code",
   "execution_count": 77,
   "id": "af5c58b0-43f2-4e1a-9683-4ced89e5b29c",
   "metadata": {},
   "outputs": [],
   "source": [
    "\n",
    "model1.compile(optimizer='adam', loss='binary_crossentropy', metrics=['accuracy'])\n"
   ]
  },
  {
   "cell_type": "code",
   "execution_count": 78,
   "id": "6bc66df5-fa77-4e65-940c-de22d0d42993",
   "metadata": {},
   "outputs": [
    {
     "name": "stdout",
     "output_type": "stream",
     "text": [
      "Epoch 1/15\n",
      "1987/1987 [==============================] - 7s 3ms/step - loss: 0.5916 - accuracy: 0.6717 - val_loss: 0.4139 - val_accuracy: 0.8093\n",
      "Epoch 2/15\n",
      "1987/1987 [==============================] - 6s 3ms/step - loss: 0.4503 - accuracy: 0.7549 - val_loss: 0.3075 - val_accuracy: 0.8939\n",
      "Epoch 3/15\n",
      "1987/1987 [==============================] - 7s 3ms/step - loss: 0.4027 - accuracy: 0.8128 - val_loss: 0.2775 - val_accuracy: 0.9093\n",
      "Epoch 4/15\n",
      "1987/1987 [==============================] - 7s 4ms/step - loss: 0.3759 - accuracy: 0.8293 - val_loss: 0.2525 - val_accuracy: 0.9118\n",
      "Epoch 5/15\n",
      "1987/1987 [==============================] - 7s 3ms/step - loss: 0.3601 - accuracy: 0.8379 - val_loss: 0.2483 - val_accuracy: 0.9095\n",
      "Epoch 6/15\n",
      "1987/1987 [==============================] - 7s 3ms/step - loss: 0.3468 - accuracy: 0.8471 - val_loss: 0.2382 - val_accuracy: 0.9104\n",
      "Epoch 7/15\n",
      "1987/1987 [==============================] - 7s 3ms/step - loss: 0.3378 - accuracy: 0.8513 - val_loss: 0.2313 - val_accuracy: 0.9164\n",
      "Epoch 8/15\n",
      "1987/1987 [==============================] - 7s 3ms/step - loss: 0.3245 - accuracy: 0.8593 - val_loss: 0.2096 - val_accuracy: 0.9292\n",
      "Epoch 9/15\n",
      "1987/1987 [==============================] - 7s 3ms/step - loss: 0.3184 - accuracy: 0.8632 - val_loss: 0.2200 - val_accuracy: 0.9222\n",
      "Epoch 10/15\n",
      "1987/1987 [==============================] - 7s 3ms/step - loss: 0.3128 - accuracy: 0.8659 - val_loss: 0.2092 - val_accuracy: 0.9327\n",
      "Epoch 11/15\n",
      "1987/1987 [==============================] - 7s 3ms/step - loss: 0.3085 - accuracy: 0.8690 - val_loss: 0.2119 - val_accuracy: 0.9287\n",
      "Epoch 12/15\n",
      "1987/1987 [==============================] - 7s 3ms/step - loss: 0.3030 - accuracy: 0.8718 - val_loss: 0.1990 - val_accuracy: 0.9356\n",
      "Epoch 13/15\n",
      "1987/1987 [==============================] - 6s 3ms/step - loss: 0.3000 - accuracy: 0.8721 - val_loss: 0.2012 - val_accuracy: 0.9362\n",
      "Epoch 14/15\n",
      "1987/1987 [==============================] - 7s 3ms/step - loss: 0.2968 - accuracy: 0.8740 - val_loss: 0.1944 - val_accuracy: 0.9377\n",
      "Epoch 15/15\n",
      "1987/1987 [==============================] - 7s 3ms/step - loss: 0.2899 - accuracy: 0.8772 - val_loss: 0.1991 - val_accuracy: 0.9367\n"
     ]
    }
   ],
   "source": [
    "history = model1.fit(X_train_embeddings, y_train, epochs=15, batch_size=32, validation_data=(X_test_embeddings, y_test))"
   ]
  },
  {
   "cell_type": "code",
   "execution_count": 79,
   "id": "aa748a04-12a8-41cf-ac3d-4ab9b6663a8a",
   "metadata": {},
   "outputs": [
    {
     "name": "stdout",
     "output_type": "stream",
     "text": [
      "663/663 [==============================] - 1s 2ms/step - loss: 0.1991 - accuracy: 0.9367\n",
      "Test Loss:  {0.19906575977802277}\n",
      "Test Accuracy:  {0.9366562962532043}\n"
     ]
    }
   ],
   "source": [
    "test_loss, test_accuracy = model1.evaluate(X_test_embeddings, y_test)\n",
    "\n",
    "print(\"Test Loss: \", {test_loss})\n",
    "print(\"Test Accuracy: \", {test_accuracy})\n"
   ]
  },
  {
   "cell_type": "code",
   "execution_count": 80,
   "id": "028b1098-004e-4bf4-8831-10c427fc0455",
   "metadata": {},
   "outputs": [
    {
     "name": "stdout",
     "output_type": "stream",
     "text": [
      "1/1 [==============================] - 0s 67ms/step\n",
      "Match score:  [[0.11723254]]\n"
     ]
    }
   ],
   "source": [
    "from sentence_transformers import SentenceTransformer\n",
    "\n",
    "product_one = [\"Iphone x 64gb\"]\n",
    "\n",
    "product_two = [\"Apple Iphone 8 64gb\"]\n",
    "\n",
    "product_1_embeddings = model.encode(product_one)\n",
    "product_2_embeddings = model.encode(product_two)\n",
    "\n",
    "product_pair_embeddings = np.concatenate((product_1_embeddings, product_2_embeddings), axis = 1)\n",
    "\n",
    "#kako na konkretnom primjeru nemamo labelu istine, to umjesto evaluate koristimo predict \n",
    "test_accuracy = model1.predict(product_pair_embeddings)\n",
    "\n",
    "print(\"Match score: \", test_accuracy)\n"
   ]
  },
  {
   "cell_type": "code",
   "execution_count": 81,
   "id": "cfb7daea-f805-4b17-98a3-1e309c04a459",
   "metadata": {},
   "outputs": [],
   "source": [
    "model1.save_weights('weights.h5')"
   ]
  },
  {
   "cell_type": "code",
   "execution_count": 82,
   "id": "6c40ea52-7ca0-409a-83f3-74484613a948",
   "metadata": {},
   "outputs": [],
   "source": [
    "model1.save('model.h5')\n"
   ]
  },
  {
   "cell_type": "code",
   "execution_count": null,
   "id": "a43fe1bb-d572-47c2-b155-fe84bf00cbdc",
   "metadata": {},
   "outputs": [],
   "source": []
  },
  {
   "cell_type": "markdown",
   "id": "427c85ee-cd82-4aa0-8ae0-dd74b5fe8cc9",
   "metadata": {},
   "source": [
    "Pozivanje i ml modela, za koji se pretpostavlja da će zbog svoje arhitekture dat dobre rezultate. "
   ]
  },
  {
   "cell_type": "code",
   "execution_count": 92,
   "id": "b8eaa420-47f5-43f4-80db-3238d88b0942",
   "metadata": {},
   "outputs": [],
   "source": [
    "from sklearn.ensemble import RandomForestClassifier\n",
    "from sklearn.metrics import accuracy_score\n",
    "from scipy.stats import randint\n",
    "from sklearn.model_selection import RandomizedSearchCV\n",
    "import joblib"
   ]
  },
  {
   "cell_type": "code",
   "execution_count": 84,
   "id": "bef74d35-d3ad-442d-807d-277432df2527",
   "metadata": {},
   "outputs": [],
   "source": [
    "modelRandFor = RandomForestClassifier()"
   ]
  },
  {
   "cell_type": "code",
   "execution_count": 85,
   "id": "01765eaa-71a4-446a-9361-4f1608e3c0d8",
   "metadata": {},
   "outputs": [
    {
     "name": "stderr",
     "output_type": "stream",
     "text": [
      "C:\\Users\\delic\\anaconda3\\envs\\master\\lib\\site-packages\\sklearn\\base.py:1474: DataConversionWarning: A column-vector y was passed when a 1d array was expected. Please change the shape of y to (n_samples,), for example using ravel().\n",
      "  return fit_method(estimator, *args, **kwargs)\n"
     ]
    },
    {
     "ename": "KeyboardInterrupt",
     "evalue": "",
     "output_type": "error",
     "traceback": [
      "\u001b[1;31m---------------------------------------------------------------------------\u001b[0m",
      "\u001b[1;31mKeyboardInterrupt\u001b[0m                         Traceback (most recent call last)",
      "Cell \u001b[1;32mIn[85], line 1\u001b[0m\n\u001b[1;32m----> 1\u001b[0m \u001b[43mmodelRandFor\u001b[49m\u001b[38;5;241;43m.\u001b[39;49m\u001b[43mfit\u001b[49m\u001b[43m(\u001b[49m\u001b[43mX_train_embeddings\u001b[49m\u001b[43m,\u001b[49m\u001b[43m \u001b[49m\u001b[43my_train\u001b[49m\u001b[43m)\u001b[49m\n",
      "File \u001b[1;32m~\\anaconda3\\envs\\master\\lib\\site-packages\\sklearn\\base.py:1474\u001b[0m, in \u001b[0;36m_fit_context.<locals>.decorator.<locals>.wrapper\u001b[1;34m(estimator, *args, **kwargs)\u001b[0m\n\u001b[0;32m   1467\u001b[0m     estimator\u001b[38;5;241m.\u001b[39m_validate_params()\n\u001b[0;32m   1469\u001b[0m \u001b[38;5;28;01mwith\u001b[39;00m config_context(\n\u001b[0;32m   1470\u001b[0m     skip_parameter_validation\u001b[38;5;241m=\u001b[39m(\n\u001b[0;32m   1471\u001b[0m         prefer_skip_nested_validation \u001b[38;5;129;01mor\u001b[39;00m global_skip_validation\n\u001b[0;32m   1472\u001b[0m     )\n\u001b[0;32m   1473\u001b[0m ):\n\u001b[1;32m-> 1474\u001b[0m     \u001b[38;5;28;01mreturn\u001b[39;00m fit_method(estimator, \u001b[38;5;241m*\u001b[39margs, \u001b[38;5;241m*\u001b[39m\u001b[38;5;241m*\u001b[39mkwargs)\n",
      "File \u001b[1;32m~\\anaconda3\\envs\\master\\lib\\site-packages\\sklearn\\ensemble\\_forest.py:489\u001b[0m, in \u001b[0;36mBaseForest.fit\u001b[1;34m(self, X, y, sample_weight)\u001b[0m\n\u001b[0;32m    478\u001b[0m trees \u001b[38;5;241m=\u001b[39m [\n\u001b[0;32m    479\u001b[0m     \u001b[38;5;28mself\u001b[39m\u001b[38;5;241m.\u001b[39m_make_estimator(append\u001b[38;5;241m=\u001b[39m\u001b[38;5;28;01mFalse\u001b[39;00m, random_state\u001b[38;5;241m=\u001b[39mrandom_state)\n\u001b[0;32m    480\u001b[0m     \u001b[38;5;28;01mfor\u001b[39;00m i \u001b[38;5;129;01min\u001b[39;00m \u001b[38;5;28mrange\u001b[39m(n_more_estimators)\n\u001b[0;32m    481\u001b[0m ]\n\u001b[0;32m    483\u001b[0m \u001b[38;5;66;03m# Parallel loop: we prefer the threading backend as the Cython code\u001b[39;00m\n\u001b[0;32m    484\u001b[0m \u001b[38;5;66;03m# for fitting the trees is internally releasing the Python GIL\u001b[39;00m\n\u001b[0;32m    485\u001b[0m \u001b[38;5;66;03m# making threading more efficient than multiprocessing in\u001b[39;00m\n\u001b[0;32m    486\u001b[0m \u001b[38;5;66;03m# that case. However, for joblib 0.12+ we respect any\u001b[39;00m\n\u001b[0;32m    487\u001b[0m \u001b[38;5;66;03m# parallel_backend contexts set at a higher level,\u001b[39;00m\n\u001b[0;32m    488\u001b[0m \u001b[38;5;66;03m# since correctness does not rely on using threads.\u001b[39;00m\n\u001b[1;32m--> 489\u001b[0m trees \u001b[38;5;241m=\u001b[39m \u001b[43mParallel\u001b[49m\u001b[43m(\u001b[49m\n\u001b[0;32m    490\u001b[0m \u001b[43m    \u001b[49m\u001b[43mn_jobs\u001b[49m\u001b[38;5;241;43m=\u001b[39;49m\u001b[38;5;28;43mself\u001b[39;49m\u001b[38;5;241;43m.\u001b[39;49m\u001b[43mn_jobs\u001b[49m\u001b[43m,\u001b[49m\n\u001b[0;32m    491\u001b[0m \u001b[43m    \u001b[49m\u001b[43mverbose\u001b[49m\u001b[38;5;241;43m=\u001b[39;49m\u001b[38;5;28;43mself\u001b[39;49m\u001b[38;5;241;43m.\u001b[39;49m\u001b[43mverbose\u001b[49m\u001b[43m,\u001b[49m\n\u001b[0;32m    492\u001b[0m \u001b[43m    \u001b[49m\u001b[43mprefer\u001b[49m\u001b[38;5;241;43m=\u001b[39;49m\u001b[38;5;124;43m\"\u001b[39;49m\u001b[38;5;124;43mthreads\u001b[39;49m\u001b[38;5;124;43m\"\u001b[39;49m\u001b[43m,\u001b[49m\n\u001b[0;32m    493\u001b[0m \u001b[43m\u001b[49m\u001b[43m)\u001b[49m\u001b[43m(\u001b[49m\n\u001b[0;32m    494\u001b[0m \u001b[43m    \u001b[49m\u001b[43mdelayed\u001b[49m\u001b[43m(\u001b[49m\u001b[43m_parallel_build_trees\u001b[49m\u001b[43m)\u001b[49m\u001b[43m(\u001b[49m\n\u001b[0;32m    495\u001b[0m \u001b[43m        \u001b[49m\u001b[43mt\u001b[49m\u001b[43m,\u001b[49m\n\u001b[0;32m    496\u001b[0m \u001b[43m        \u001b[49m\u001b[38;5;28;43mself\u001b[39;49m\u001b[38;5;241;43m.\u001b[39;49m\u001b[43mbootstrap\u001b[49m\u001b[43m,\u001b[49m\n\u001b[0;32m    497\u001b[0m \u001b[43m        \u001b[49m\u001b[43mX\u001b[49m\u001b[43m,\u001b[49m\n\u001b[0;32m    498\u001b[0m \u001b[43m        \u001b[49m\u001b[43my\u001b[49m\u001b[43m,\u001b[49m\n\u001b[0;32m    499\u001b[0m \u001b[43m        \u001b[49m\u001b[43msample_weight\u001b[49m\u001b[43m,\u001b[49m\n\u001b[0;32m    500\u001b[0m \u001b[43m        \u001b[49m\u001b[43mi\u001b[49m\u001b[43m,\u001b[49m\n\u001b[0;32m    501\u001b[0m \u001b[43m        \u001b[49m\u001b[38;5;28;43mlen\u001b[39;49m\u001b[43m(\u001b[49m\u001b[43mtrees\u001b[49m\u001b[43m)\u001b[49m\u001b[43m,\u001b[49m\n\u001b[0;32m    502\u001b[0m \u001b[43m        \u001b[49m\u001b[43mverbose\u001b[49m\u001b[38;5;241;43m=\u001b[39;49m\u001b[38;5;28;43mself\u001b[39;49m\u001b[38;5;241;43m.\u001b[39;49m\u001b[43mverbose\u001b[49m\u001b[43m,\u001b[49m\n\u001b[0;32m    503\u001b[0m \u001b[43m        \u001b[49m\u001b[43mclass_weight\u001b[49m\u001b[38;5;241;43m=\u001b[39;49m\u001b[38;5;28;43mself\u001b[39;49m\u001b[38;5;241;43m.\u001b[39;49m\u001b[43mclass_weight\u001b[49m\u001b[43m,\u001b[49m\n\u001b[0;32m    504\u001b[0m \u001b[43m        \u001b[49m\u001b[43mn_samples_bootstrap\u001b[49m\u001b[38;5;241;43m=\u001b[39;49m\u001b[43mn_samples_bootstrap\u001b[49m\u001b[43m,\u001b[49m\n\u001b[0;32m    505\u001b[0m \u001b[43m        \u001b[49m\u001b[43mmissing_values_in_feature_mask\u001b[49m\u001b[38;5;241;43m=\u001b[39;49m\u001b[43mmissing_values_in_feature_mask\u001b[49m\u001b[43m,\u001b[49m\n\u001b[0;32m    506\u001b[0m \u001b[43m    \u001b[49m\u001b[43m)\u001b[49m\n\u001b[0;32m    507\u001b[0m \u001b[43m    \u001b[49m\u001b[38;5;28;43;01mfor\u001b[39;49;00m\u001b[43m \u001b[49m\u001b[43mi\u001b[49m\u001b[43m,\u001b[49m\u001b[43m \u001b[49m\u001b[43mt\u001b[49m\u001b[43m \u001b[49m\u001b[38;5;129;43;01min\u001b[39;49;00m\u001b[43m \u001b[49m\u001b[38;5;28;43menumerate\u001b[39;49m\u001b[43m(\u001b[49m\u001b[43mtrees\u001b[49m\u001b[43m)\u001b[49m\n\u001b[0;32m    508\u001b[0m \u001b[43m\u001b[49m\u001b[43m)\u001b[49m\n\u001b[0;32m    510\u001b[0m \u001b[38;5;66;03m# Collect newly grown trees\u001b[39;00m\n\u001b[0;32m    511\u001b[0m \u001b[38;5;28mself\u001b[39m\u001b[38;5;241m.\u001b[39mestimators_\u001b[38;5;241m.\u001b[39mextend(trees)\n",
      "File \u001b[1;32m~\\anaconda3\\envs\\master\\lib\\site-packages\\sklearn\\utils\\parallel.py:67\u001b[0m, in \u001b[0;36mParallel.__call__\u001b[1;34m(self, iterable)\u001b[0m\n\u001b[0;32m     62\u001b[0m config \u001b[38;5;241m=\u001b[39m get_config()\n\u001b[0;32m     63\u001b[0m iterable_with_config \u001b[38;5;241m=\u001b[39m (\n\u001b[0;32m     64\u001b[0m     (_with_config(delayed_func, config), args, kwargs)\n\u001b[0;32m     65\u001b[0m     \u001b[38;5;28;01mfor\u001b[39;00m delayed_func, args, kwargs \u001b[38;5;129;01min\u001b[39;00m iterable\n\u001b[0;32m     66\u001b[0m )\n\u001b[1;32m---> 67\u001b[0m \u001b[38;5;28;01mreturn\u001b[39;00m \u001b[38;5;28;43msuper\u001b[39;49m\u001b[43m(\u001b[49m\u001b[43m)\u001b[49m\u001b[38;5;241;43m.\u001b[39;49m\u001b[38;5;21;43m__call__\u001b[39;49m\u001b[43m(\u001b[49m\u001b[43miterable_with_config\u001b[49m\u001b[43m)\u001b[49m\n",
      "File \u001b[1;32m~\\anaconda3\\envs\\master\\lib\\site-packages\\joblib\\parallel.py:1863\u001b[0m, in \u001b[0;36mParallel.__call__\u001b[1;34m(self, iterable)\u001b[0m\n\u001b[0;32m   1861\u001b[0m     output \u001b[38;5;241m=\u001b[39m \u001b[38;5;28mself\u001b[39m\u001b[38;5;241m.\u001b[39m_get_sequential_output(iterable)\n\u001b[0;32m   1862\u001b[0m     \u001b[38;5;28mnext\u001b[39m(output)\n\u001b[1;32m-> 1863\u001b[0m     \u001b[38;5;28;01mreturn\u001b[39;00m output \u001b[38;5;28;01mif\u001b[39;00m \u001b[38;5;28mself\u001b[39m\u001b[38;5;241m.\u001b[39mreturn_generator \u001b[38;5;28;01melse\u001b[39;00m \u001b[38;5;28;43mlist\u001b[39;49m\u001b[43m(\u001b[49m\u001b[43moutput\u001b[49m\u001b[43m)\u001b[49m\n\u001b[0;32m   1865\u001b[0m \u001b[38;5;66;03m# Let's create an ID that uniquely identifies the current call. If the\u001b[39;00m\n\u001b[0;32m   1866\u001b[0m \u001b[38;5;66;03m# call is interrupted early and that the same instance is immediately\u001b[39;00m\n\u001b[0;32m   1867\u001b[0m \u001b[38;5;66;03m# re-used, this id will be used to prevent workers that were\u001b[39;00m\n\u001b[0;32m   1868\u001b[0m \u001b[38;5;66;03m# concurrently finalizing a task from the previous call to run the\u001b[39;00m\n\u001b[0;32m   1869\u001b[0m \u001b[38;5;66;03m# callback.\u001b[39;00m\n\u001b[0;32m   1870\u001b[0m \u001b[38;5;28;01mwith\u001b[39;00m \u001b[38;5;28mself\u001b[39m\u001b[38;5;241m.\u001b[39m_lock:\n",
      "File \u001b[1;32m~\\anaconda3\\envs\\master\\lib\\site-packages\\joblib\\parallel.py:1792\u001b[0m, in \u001b[0;36mParallel._get_sequential_output\u001b[1;34m(self, iterable)\u001b[0m\n\u001b[0;32m   1790\u001b[0m \u001b[38;5;28mself\u001b[39m\u001b[38;5;241m.\u001b[39mn_dispatched_batches \u001b[38;5;241m+\u001b[39m\u001b[38;5;241m=\u001b[39m \u001b[38;5;241m1\u001b[39m\n\u001b[0;32m   1791\u001b[0m \u001b[38;5;28mself\u001b[39m\u001b[38;5;241m.\u001b[39mn_dispatched_tasks \u001b[38;5;241m+\u001b[39m\u001b[38;5;241m=\u001b[39m \u001b[38;5;241m1\u001b[39m\n\u001b[1;32m-> 1792\u001b[0m res \u001b[38;5;241m=\u001b[39m func(\u001b[38;5;241m*\u001b[39margs, \u001b[38;5;241m*\u001b[39m\u001b[38;5;241m*\u001b[39mkwargs)\n\u001b[0;32m   1793\u001b[0m \u001b[38;5;28mself\u001b[39m\u001b[38;5;241m.\u001b[39mn_completed_tasks \u001b[38;5;241m+\u001b[39m\u001b[38;5;241m=\u001b[39m \u001b[38;5;241m1\u001b[39m\n\u001b[0;32m   1794\u001b[0m \u001b[38;5;28mself\u001b[39m\u001b[38;5;241m.\u001b[39mprint_progress()\n",
      "File \u001b[1;32m~\\anaconda3\\envs\\master\\lib\\site-packages\\sklearn\\utils\\parallel.py:129\u001b[0m, in \u001b[0;36m_FuncWrapper.__call__\u001b[1;34m(self, *args, **kwargs)\u001b[0m\n\u001b[0;32m    127\u001b[0m     config \u001b[38;5;241m=\u001b[39m {}\n\u001b[0;32m    128\u001b[0m \u001b[38;5;28;01mwith\u001b[39;00m config_context(\u001b[38;5;241m*\u001b[39m\u001b[38;5;241m*\u001b[39mconfig):\n\u001b[1;32m--> 129\u001b[0m     \u001b[38;5;28;01mreturn\u001b[39;00m \u001b[38;5;28mself\u001b[39m\u001b[38;5;241m.\u001b[39mfunction(\u001b[38;5;241m*\u001b[39margs, \u001b[38;5;241m*\u001b[39m\u001b[38;5;241m*\u001b[39mkwargs)\n",
      "File \u001b[1;32m~\\anaconda3\\envs\\master\\lib\\site-packages\\sklearn\\ensemble\\_forest.py:192\u001b[0m, in \u001b[0;36m_parallel_build_trees\u001b[1;34m(tree, bootstrap, X, y, sample_weight, tree_idx, n_trees, verbose, class_weight, n_samples_bootstrap, missing_values_in_feature_mask)\u001b[0m\n\u001b[0;32m    189\u001b[0m     \u001b[38;5;28;01melif\u001b[39;00m class_weight \u001b[38;5;241m==\u001b[39m \u001b[38;5;124m\"\u001b[39m\u001b[38;5;124mbalanced_subsample\u001b[39m\u001b[38;5;124m\"\u001b[39m:\n\u001b[0;32m    190\u001b[0m         curr_sample_weight \u001b[38;5;241m*\u001b[39m\u001b[38;5;241m=\u001b[39m compute_sample_weight(\u001b[38;5;124m\"\u001b[39m\u001b[38;5;124mbalanced\u001b[39m\u001b[38;5;124m\"\u001b[39m, y, indices\u001b[38;5;241m=\u001b[39mindices)\n\u001b[1;32m--> 192\u001b[0m     \u001b[43mtree\u001b[49m\u001b[38;5;241;43m.\u001b[39;49m\u001b[43m_fit\u001b[49m\u001b[43m(\u001b[49m\n\u001b[0;32m    193\u001b[0m \u001b[43m        \u001b[49m\u001b[43mX\u001b[49m\u001b[43m,\u001b[49m\n\u001b[0;32m    194\u001b[0m \u001b[43m        \u001b[49m\u001b[43my\u001b[49m\u001b[43m,\u001b[49m\n\u001b[0;32m    195\u001b[0m \u001b[43m        \u001b[49m\u001b[43msample_weight\u001b[49m\u001b[38;5;241;43m=\u001b[39;49m\u001b[43mcurr_sample_weight\u001b[49m\u001b[43m,\u001b[49m\n\u001b[0;32m    196\u001b[0m \u001b[43m        \u001b[49m\u001b[43mcheck_input\u001b[49m\u001b[38;5;241;43m=\u001b[39;49m\u001b[38;5;28;43;01mFalse\u001b[39;49;00m\u001b[43m,\u001b[49m\n\u001b[0;32m    197\u001b[0m \u001b[43m        \u001b[49m\u001b[43mmissing_values_in_feature_mask\u001b[49m\u001b[38;5;241;43m=\u001b[39;49m\u001b[43mmissing_values_in_feature_mask\u001b[49m\u001b[43m,\u001b[49m\n\u001b[0;32m    198\u001b[0m \u001b[43m    \u001b[49m\u001b[43m)\u001b[49m\n\u001b[0;32m    199\u001b[0m \u001b[38;5;28;01melse\u001b[39;00m:\n\u001b[0;32m    200\u001b[0m     tree\u001b[38;5;241m.\u001b[39m_fit(\n\u001b[0;32m    201\u001b[0m         X,\n\u001b[0;32m    202\u001b[0m         y,\n\u001b[1;32m   (...)\u001b[0m\n\u001b[0;32m    205\u001b[0m         missing_values_in_feature_mask\u001b[38;5;241m=\u001b[39mmissing_values_in_feature_mask,\n\u001b[0;32m    206\u001b[0m     )\n",
      "File \u001b[1;32m~\\anaconda3\\envs\\master\\lib\\site-packages\\sklearn\\tree\\_classes.py:472\u001b[0m, in \u001b[0;36mBaseDecisionTree._fit\u001b[1;34m(self, X, y, sample_weight, check_input, missing_values_in_feature_mask)\u001b[0m\n\u001b[0;32m    461\u001b[0m \u001b[38;5;28;01melse\u001b[39;00m:\n\u001b[0;32m    462\u001b[0m     builder \u001b[38;5;241m=\u001b[39m BestFirstTreeBuilder(\n\u001b[0;32m    463\u001b[0m         splitter,\n\u001b[0;32m    464\u001b[0m         min_samples_split,\n\u001b[1;32m   (...)\u001b[0m\n\u001b[0;32m    469\u001b[0m         \u001b[38;5;28mself\u001b[39m\u001b[38;5;241m.\u001b[39mmin_impurity_decrease,\n\u001b[0;32m    470\u001b[0m     )\n\u001b[1;32m--> 472\u001b[0m \u001b[43mbuilder\u001b[49m\u001b[38;5;241;43m.\u001b[39;49m\u001b[43mbuild\u001b[49m\u001b[43m(\u001b[49m\u001b[38;5;28;43mself\u001b[39;49m\u001b[38;5;241;43m.\u001b[39;49m\u001b[43mtree_\u001b[49m\u001b[43m,\u001b[49m\u001b[43m \u001b[49m\u001b[43mX\u001b[49m\u001b[43m,\u001b[49m\u001b[43m \u001b[49m\u001b[43my\u001b[49m\u001b[43m,\u001b[49m\u001b[43m \u001b[49m\u001b[43msample_weight\u001b[49m\u001b[43m,\u001b[49m\u001b[43m \u001b[49m\u001b[43mmissing_values_in_feature_mask\u001b[49m\u001b[43m)\u001b[49m\n\u001b[0;32m    474\u001b[0m \u001b[38;5;28;01mif\u001b[39;00m \u001b[38;5;28mself\u001b[39m\u001b[38;5;241m.\u001b[39mn_outputs_ \u001b[38;5;241m==\u001b[39m \u001b[38;5;241m1\u001b[39m \u001b[38;5;129;01mand\u001b[39;00m is_classifier(\u001b[38;5;28mself\u001b[39m):\n\u001b[0;32m    475\u001b[0m     \u001b[38;5;28mself\u001b[39m\u001b[38;5;241m.\u001b[39mn_classes_ \u001b[38;5;241m=\u001b[39m \u001b[38;5;28mself\u001b[39m\u001b[38;5;241m.\u001b[39mn_classes_[\u001b[38;5;241m0\u001b[39m]\n",
      "\u001b[1;31mKeyboardInterrupt\u001b[0m: "
     ]
    }
   ],
   "source": [
    "modelRandFor.fit(X_train_embeddings, y_train)"
   ]
  },
  {
   "cell_type": "code",
   "execution_count": 86,
   "id": "501a5cee-3494-4291-a647-e5447cbd823c",
   "metadata": {},
   "outputs": [
    {
     "data": {
      "text/html": [
       "<style>#sk-container-id-1 {\n",
       "  /* Definition of color scheme common for light and dark mode */\n",
       "  --sklearn-color-text: black;\n",
       "  --sklearn-color-line: gray;\n",
       "  /* Definition of color scheme for unfitted estimators */\n",
       "  --sklearn-color-unfitted-level-0: #fff5e6;\n",
       "  --sklearn-color-unfitted-level-1: #f6e4d2;\n",
       "  --sklearn-color-unfitted-level-2: #ffe0b3;\n",
       "  --sklearn-color-unfitted-level-3: chocolate;\n",
       "  /* Definition of color scheme for fitted estimators */\n",
       "  --sklearn-color-fitted-level-0: #f0f8ff;\n",
       "  --sklearn-color-fitted-level-1: #d4ebff;\n",
       "  --sklearn-color-fitted-level-2: #b3dbfd;\n",
       "  --sklearn-color-fitted-level-3: cornflowerblue;\n",
       "\n",
       "  /* Specific color for light theme */\n",
       "  --sklearn-color-text-on-default-background: var(--sg-text-color, var(--theme-code-foreground, var(--jp-content-font-color1, black)));\n",
       "  --sklearn-color-background: var(--sg-background-color, var(--theme-background, var(--jp-layout-color0, white)));\n",
       "  --sklearn-color-border-box: var(--sg-text-color, var(--theme-code-foreground, var(--jp-content-font-color1, black)));\n",
       "  --sklearn-color-icon: #696969;\n",
       "\n",
       "  @media (prefers-color-scheme: dark) {\n",
       "    /* Redefinition of color scheme for dark theme */\n",
       "    --sklearn-color-text-on-default-background: var(--sg-text-color, var(--theme-code-foreground, var(--jp-content-font-color1, white)));\n",
       "    --sklearn-color-background: var(--sg-background-color, var(--theme-background, var(--jp-layout-color0, #111)));\n",
       "    --sklearn-color-border-box: var(--sg-text-color, var(--theme-code-foreground, var(--jp-content-font-color1, white)));\n",
       "    --sklearn-color-icon: #878787;\n",
       "  }\n",
       "}\n",
       "\n",
       "#sk-container-id-1 {\n",
       "  color: var(--sklearn-color-text);\n",
       "}\n",
       "\n",
       "#sk-container-id-1 pre {\n",
       "  padding: 0;\n",
       "}\n",
       "\n",
       "#sk-container-id-1 input.sk-hidden--visually {\n",
       "  border: 0;\n",
       "  clip: rect(1px 1px 1px 1px);\n",
       "  clip: rect(1px, 1px, 1px, 1px);\n",
       "  height: 1px;\n",
       "  margin: -1px;\n",
       "  overflow: hidden;\n",
       "  padding: 0;\n",
       "  position: absolute;\n",
       "  width: 1px;\n",
       "}\n",
       "\n",
       "#sk-container-id-1 div.sk-dashed-wrapped {\n",
       "  border: 1px dashed var(--sklearn-color-line);\n",
       "  margin: 0 0.4em 0.5em 0.4em;\n",
       "  box-sizing: border-box;\n",
       "  padding-bottom: 0.4em;\n",
       "  background-color: var(--sklearn-color-background);\n",
       "}\n",
       "\n",
       "#sk-container-id-1 div.sk-container {\n",
       "  /* jupyter's `normalize.less` sets `[hidden] { display: none; }`\n",
       "     but bootstrap.min.css set `[hidden] { display: none !important; }`\n",
       "     so we also need the `!important` here to be able to override the\n",
       "     default hidden behavior on the sphinx rendered scikit-learn.org.\n",
       "     See: https://github.com/scikit-learn/scikit-learn/issues/21755 */\n",
       "  display: inline-block !important;\n",
       "  position: relative;\n",
       "}\n",
       "\n",
       "#sk-container-id-1 div.sk-text-repr-fallback {\n",
       "  display: none;\n",
       "}\n",
       "\n",
       "div.sk-parallel-item,\n",
       "div.sk-serial,\n",
       "div.sk-item {\n",
       "  /* draw centered vertical line to link estimators */\n",
       "  background-image: linear-gradient(var(--sklearn-color-text-on-default-background), var(--sklearn-color-text-on-default-background));\n",
       "  background-size: 2px 100%;\n",
       "  background-repeat: no-repeat;\n",
       "  background-position: center center;\n",
       "}\n",
       "\n",
       "/* Parallel-specific style estimator block */\n",
       "\n",
       "#sk-container-id-1 div.sk-parallel-item::after {\n",
       "  content: \"\";\n",
       "  width: 100%;\n",
       "  border-bottom: 2px solid var(--sklearn-color-text-on-default-background);\n",
       "  flex-grow: 1;\n",
       "}\n",
       "\n",
       "#sk-container-id-1 div.sk-parallel {\n",
       "  display: flex;\n",
       "  align-items: stretch;\n",
       "  justify-content: center;\n",
       "  background-color: var(--sklearn-color-background);\n",
       "  position: relative;\n",
       "}\n",
       "\n",
       "#sk-container-id-1 div.sk-parallel-item {\n",
       "  display: flex;\n",
       "  flex-direction: column;\n",
       "}\n",
       "\n",
       "#sk-container-id-1 div.sk-parallel-item:first-child::after {\n",
       "  align-self: flex-end;\n",
       "  width: 50%;\n",
       "}\n",
       "\n",
       "#sk-container-id-1 div.sk-parallel-item:last-child::after {\n",
       "  align-self: flex-start;\n",
       "  width: 50%;\n",
       "}\n",
       "\n",
       "#sk-container-id-1 div.sk-parallel-item:only-child::after {\n",
       "  width: 0;\n",
       "}\n",
       "\n",
       "/* Serial-specific style estimator block */\n",
       "\n",
       "#sk-container-id-1 div.sk-serial {\n",
       "  display: flex;\n",
       "  flex-direction: column;\n",
       "  align-items: center;\n",
       "  background-color: var(--sklearn-color-background);\n",
       "  padding-right: 1em;\n",
       "  padding-left: 1em;\n",
       "}\n",
       "\n",
       "\n",
       "/* Toggleable style: style used for estimator/Pipeline/ColumnTransformer box that is\n",
       "clickable and can be expanded/collapsed.\n",
       "- Pipeline and ColumnTransformer use this feature and define the default style\n",
       "- Estimators will overwrite some part of the style using the `sk-estimator` class\n",
       "*/\n",
       "\n",
       "/* Pipeline and ColumnTransformer style (default) */\n",
       "\n",
       "#sk-container-id-1 div.sk-toggleable {\n",
       "  /* Default theme specific background. It is overwritten whether we have a\n",
       "  specific estimator or a Pipeline/ColumnTransformer */\n",
       "  background-color: var(--sklearn-color-background);\n",
       "}\n",
       "\n",
       "/* Toggleable label */\n",
       "#sk-container-id-1 label.sk-toggleable__label {\n",
       "  cursor: pointer;\n",
       "  display: block;\n",
       "  width: 100%;\n",
       "  margin-bottom: 0;\n",
       "  padding: 0.5em;\n",
       "  box-sizing: border-box;\n",
       "  text-align: center;\n",
       "}\n",
       "\n",
       "#sk-container-id-1 label.sk-toggleable__label-arrow:before {\n",
       "  /* Arrow on the left of the label */\n",
       "  content: \"▸\";\n",
       "  float: left;\n",
       "  margin-right: 0.25em;\n",
       "  color: var(--sklearn-color-icon);\n",
       "}\n",
       "\n",
       "#sk-container-id-1 label.sk-toggleable__label-arrow:hover:before {\n",
       "  color: var(--sklearn-color-text);\n",
       "}\n",
       "\n",
       "/* Toggleable content - dropdown */\n",
       "\n",
       "#sk-container-id-1 div.sk-toggleable__content {\n",
       "  max-height: 0;\n",
       "  max-width: 0;\n",
       "  overflow: hidden;\n",
       "  text-align: left;\n",
       "  /* unfitted */\n",
       "  background-color: var(--sklearn-color-unfitted-level-0);\n",
       "}\n",
       "\n",
       "#sk-container-id-1 div.sk-toggleable__content.fitted {\n",
       "  /* fitted */\n",
       "  background-color: var(--sklearn-color-fitted-level-0);\n",
       "}\n",
       "\n",
       "#sk-container-id-1 div.sk-toggleable__content pre {\n",
       "  margin: 0.2em;\n",
       "  border-radius: 0.25em;\n",
       "  color: var(--sklearn-color-text);\n",
       "  /* unfitted */\n",
       "  background-color: var(--sklearn-color-unfitted-level-0);\n",
       "}\n",
       "\n",
       "#sk-container-id-1 div.sk-toggleable__content.fitted pre {\n",
       "  /* unfitted */\n",
       "  background-color: var(--sklearn-color-fitted-level-0);\n",
       "}\n",
       "\n",
       "#sk-container-id-1 input.sk-toggleable__control:checked~div.sk-toggleable__content {\n",
       "  /* Expand drop-down */\n",
       "  max-height: 200px;\n",
       "  max-width: 100%;\n",
       "  overflow: auto;\n",
       "}\n",
       "\n",
       "#sk-container-id-1 input.sk-toggleable__control:checked~label.sk-toggleable__label-arrow:before {\n",
       "  content: \"▾\";\n",
       "}\n",
       "\n",
       "/* Pipeline/ColumnTransformer-specific style */\n",
       "\n",
       "#sk-container-id-1 div.sk-label input.sk-toggleable__control:checked~label.sk-toggleable__label {\n",
       "  color: var(--sklearn-color-text);\n",
       "  background-color: var(--sklearn-color-unfitted-level-2);\n",
       "}\n",
       "\n",
       "#sk-container-id-1 div.sk-label.fitted input.sk-toggleable__control:checked~label.sk-toggleable__label {\n",
       "  background-color: var(--sklearn-color-fitted-level-2);\n",
       "}\n",
       "\n",
       "/* Estimator-specific style */\n",
       "\n",
       "/* Colorize estimator box */\n",
       "#sk-container-id-1 div.sk-estimator input.sk-toggleable__control:checked~label.sk-toggleable__label {\n",
       "  /* unfitted */\n",
       "  background-color: var(--sklearn-color-unfitted-level-2);\n",
       "}\n",
       "\n",
       "#sk-container-id-1 div.sk-estimator.fitted input.sk-toggleable__control:checked~label.sk-toggleable__label {\n",
       "  /* fitted */\n",
       "  background-color: var(--sklearn-color-fitted-level-2);\n",
       "}\n",
       "\n",
       "#sk-container-id-1 div.sk-label label.sk-toggleable__label,\n",
       "#sk-container-id-1 div.sk-label label {\n",
       "  /* The background is the default theme color */\n",
       "  color: var(--sklearn-color-text-on-default-background);\n",
       "}\n",
       "\n",
       "/* On hover, darken the color of the background */\n",
       "#sk-container-id-1 div.sk-label:hover label.sk-toggleable__label {\n",
       "  color: var(--sklearn-color-text);\n",
       "  background-color: var(--sklearn-color-unfitted-level-2);\n",
       "}\n",
       "\n",
       "/* Label box, darken color on hover, fitted */\n",
       "#sk-container-id-1 div.sk-label.fitted:hover label.sk-toggleable__label.fitted {\n",
       "  color: var(--sklearn-color-text);\n",
       "  background-color: var(--sklearn-color-fitted-level-2);\n",
       "}\n",
       "\n",
       "/* Estimator label */\n",
       "\n",
       "#sk-container-id-1 div.sk-label label {\n",
       "  font-family: monospace;\n",
       "  font-weight: bold;\n",
       "  display: inline-block;\n",
       "  line-height: 1.2em;\n",
       "}\n",
       "\n",
       "#sk-container-id-1 div.sk-label-container {\n",
       "  text-align: center;\n",
       "}\n",
       "\n",
       "/* Estimator-specific */\n",
       "#sk-container-id-1 div.sk-estimator {\n",
       "  font-family: monospace;\n",
       "  border: 1px dotted var(--sklearn-color-border-box);\n",
       "  border-radius: 0.25em;\n",
       "  box-sizing: border-box;\n",
       "  margin-bottom: 0.5em;\n",
       "  /* unfitted */\n",
       "  background-color: var(--sklearn-color-unfitted-level-0);\n",
       "}\n",
       "\n",
       "#sk-container-id-1 div.sk-estimator.fitted {\n",
       "  /* fitted */\n",
       "  background-color: var(--sklearn-color-fitted-level-0);\n",
       "}\n",
       "\n",
       "/* on hover */\n",
       "#sk-container-id-1 div.sk-estimator:hover {\n",
       "  /* unfitted */\n",
       "  background-color: var(--sklearn-color-unfitted-level-2);\n",
       "}\n",
       "\n",
       "#sk-container-id-1 div.sk-estimator.fitted:hover {\n",
       "  /* fitted */\n",
       "  background-color: var(--sklearn-color-fitted-level-2);\n",
       "}\n",
       "\n",
       "/* Specification for estimator info (e.g. \"i\" and \"?\") */\n",
       "\n",
       "/* Common style for \"i\" and \"?\" */\n",
       "\n",
       ".sk-estimator-doc-link,\n",
       "a:link.sk-estimator-doc-link,\n",
       "a:visited.sk-estimator-doc-link {\n",
       "  float: right;\n",
       "  font-size: smaller;\n",
       "  line-height: 1em;\n",
       "  font-family: monospace;\n",
       "  background-color: var(--sklearn-color-background);\n",
       "  border-radius: 1em;\n",
       "  height: 1em;\n",
       "  width: 1em;\n",
       "  text-decoration: none !important;\n",
       "  margin-left: 1ex;\n",
       "  /* unfitted */\n",
       "  border: var(--sklearn-color-unfitted-level-1) 1pt solid;\n",
       "  color: var(--sklearn-color-unfitted-level-1);\n",
       "}\n",
       "\n",
       ".sk-estimator-doc-link.fitted,\n",
       "a:link.sk-estimator-doc-link.fitted,\n",
       "a:visited.sk-estimator-doc-link.fitted {\n",
       "  /* fitted */\n",
       "  border: var(--sklearn-color-fitted-level-1) 1pt solid;\n",
       "  color: var(--sklearn-color-fitted-level-1);\n",
       "}\n",
       "\n",
       "/* On hover */\n",
       "div.sk-estimator:hover .sk-estimator-doc-link:hover,\n",
       ".sk-estimator-doc-link:hover,\n",
       "div.sk-label-container:hover .sk-estimator-doc-link:hover,\n",
       ".sk-estimator-doc-link:hover {\n",
       "  /* unfitted */\n",
       "  background-color: var(--sklearn-color-unfitted-level-3);\n",
       "  color: var(--sklearn-color-background);\n",
       "  text-decoration: none;\n",
       "}\n",
       "\n",
       "div.sk-estimator.fitted:hover .sk-estimator-doc-link.fitted:hover,\n",
       ".sk-estimator-doc-link.fitted:hover,\n",
       "div.sk-label-container:hover .sk-estimator-doc-link.fitted:hover,\n",
       ".sk-estimator-doc-link.fitted:hover {\n",
       "  /* fitted */\n",
       "  background-color: var(--sklearn-color-fitted-level-3);\n",
       "  color: var(--sklearn-color-background);\n",
       "  text-decoration: none;\n",
       "}\n",
       "\n",
       "/* Span, style for the box shown on hovering the info icon */\n",
       ".sk-estimator-doc-link span {\n",
       "  display: none;\n",
       "  z-index: 9999;\n",
       "  position: relative;\n",
       "  font-weight: normal;\n",
       "  right: .2ex;\n",
       "  padding: .5ex;\n",
       "  margin: .5ex;\n",
       "  width: min-content;\n",
       "  min-width: 20ex;\n",
       "  max-width: 50ex;\n",
       "  color: var(--sklearn-color-text);\n",
       "  box-shadow: 2pt 2pt 4pt #999;\n",
       "  /* unfitted */\n",
       "  background: var(--sklearn-color-unfitted-level-0);\n",
       "  border: .5pt solid var(--sklearn-color-unfitted-level-3);\n",
       "}\n",
       "\n",
       ".sk-estimator-doc-link.fitted span {\n",
       "  /* fitted */\n",
       "  background: var(--sklearn-color-fitted-level-0);\n",
       "  border: var(--sklearn-color-fitted-level-3);\n",
       "}\n",
       "\n",
       ".sk-estimator-doc-link:hover span {\n",
       "  display: block;\n",
       "}\n",
       "\n",
       "/* \"?\"-specific style due to the `<a>` HTML tag */\n",
       "\n",
       "#sk-container-id-1 a.estimator_doc_link {\n",
       "  float: right;\n",
       "  font-size: 1rem;\n",
       "  line-height: 1em;\n",
       "  font-family: monospace;\n",
       "  background-color: var(--sklearn-color-background);\n",
       "  border-radius: 1rem;\n",
       "  height: 1rem;\n",
       "  width: 1rem;\n",
       "  text-decoration: none;\n",
       "  /* unfitted */\n",
       "  color: var(--sklearn-color-unfitted-level-1);\n",
       "  border: var(--sklearn-color-unfitted-level-1) 1pt solid;\n",
       "}\n",
       "\n",
       "#sk-container-id-1 a.estimator_doc_link.fitted {\n",
       "  /* fitted */\n",
       "  border: var(--sklearn-color-fitted-level-1) 1pt solid;\n",
       "  color: var(--sklearn-color-fitted-level-1);\n",
       "}\n",
       "\n",
       "/* On hover */\n",
       "#sk-container-id-1 a.estimator_doc_link:hover {\n",
       "  /* unfitted */\n",
       "  background-color: var(--sklearn-color-unfitted-level-3);\n",
       "  color: var(--sklearn-color-background);\n",
       "  text-decoration: none;\n",
       "}\n",
       "\n",
       "#sk-container-id-1 a.estimator_doc_link.fitted:hover {\n",
       "  /* fitted */\n",
       "  background-color: var(--sklearn-color-fitted-level-3);\n",
       "}\n",
       "</style><div id=\"sk-container-id-1\" class=\"sk-top-container\"><div class=\"sk-text-repr-fallback\"><pre>RandomForestClassifier()</pre><b>In a Jupyter environment, please rerun this cell to show the HTML representation or trust the notebook. <br />On GitHub, the HTML representation is unable to render, please try loading this page with nbviewer.org.</b></div><div class=\"sk-container\" hidden><div class=\"sk-item\"><div class=\"sk-estimator fitted sk-toggleable\"><input class=\"sk-toggleable__control sk-hidden--visually\" id=\"sk-estimator-id-1\" type=\"checkbox\" checked><label for=\"sk-estimator-id-1\" class=\"sk-toggleable__label fitted sk-toggleable__label-arrow fitted\">&nbsp;&nbsp;RandomForestClassifier<a class=\"sk-estimator-doc-link fitted\" rel=\"noreferrer\" target=\"_blank\" href=\"https://scikit-learn.org/1.4/modules/generated/sklearn.ensemble.RandomForestClassifier.html\">?<span>Documentation for RandomForestClassifier</span></a><span class=\"sk-estimator-doc-link fitted\">i<span>Fitted</span></span></label><div class=\"sk-toggleable__content fitted\"><pre>RandomForestClassifier()</pre></div> </div></div></div></div>"
      ],
      "text/plain": [
       "RandomForestClassifier()"
      ]
     },
     "execution_count": 86,
     "metadata": {},
     "output_type": "execute_result"
    }
   ],
   "source": [
    "modelRandFor.fit(X_train_embeddings, y_train.ravel())"
   ]
  },
  {
   "cell_type": "code",
   "execution_count": 87,
   "id": "7d6bc5dc-9ebd-4479-b952-30efc95b237a",
   "metadata": {},
   "outputs": [],
   "source": [
    "predictions = modelRandFor.predict(X_test_embeddings)"
   ]
  },
  {
   "cell_type": "code",
   "execution_count": 88,
   "id": "d961251a-87b0-4e6c-b092-760fd2c0dc5f",
   "metadata": {},
   "outputs": [
    {
     "name": "stdout",
     "output_type": "stream",
     "text": [
      "tačnost modela je:  0.8522137260455017\n"
     ]
    }
   ],
   "source": [
    "print(\"tačnost modela je: \", accuracy_score(y_test.ravel(), predictions))"
   ]
  },
  {
   "cell_type": "code",
   "execution_count": 89,
   "id": "e3028574-ca2b-4970-9bd2-9d7c00cd4661",
   "metadata": {},
   "outputs": [],
   "source": [
    "test = modelRandFor.predict(product_pair_embeddings)"
   ]
  },
  {
   "cell_type": "code",
   "execution_count": 90,
   "id": "417f7018-9026-4662-84f4-3794a09e2d90",
   "metadata": {},
   "outputs": [
    {
     "name": "stdout",
     "output_type": "stream",
     "text": [
      "[1]\n"
     ]
    }
   ],
   "source": [
    "print(test)"
   ]
  },
  {
   "cell_type": "code",
   "execution_count": 93,
   "id": "1b79252b-35a4-43f4-a8ff-aa9b2e208be9",
   "metadata": {},
   "outputs": [
    {
     "data": {
      "text/plain": [
       "['modelRandFor.joblib']"
      ]
     },
     "execution_count": 93,
     "metadata": {},
     "output_type": "execute_result"
    }
   ],
   "source": [
    "joblib.dump(modelRandFor, \"modelRandFor.joblib\")"
   ]
  },
  {
   "cell_type": "code",
   "execution_count": null,
   "id": "0d744164-07e2-432a-b354-cecef6d4e7fc",
   "metadata": {},
   "outputs": [],
   "source": []
  },
  {
   "cell_type": "code",
   "execution_count": null,
   "id": "889ace40-90ab-4d83-8d7a-cc499df4ba7d",
   "metadata": {},
   "outputs": [],
   "source": []
  },
  {
   "cell_type": "code",
   "execution_count": null,
   "id": "d517f152-736f-4619-8e90-71098a1eb285",
   "metadata": {},
   "outputs": [],
   "source": []
  },
  {
   "cell_type": "code",
   "execution_count": null,
   "id": "116ce1ae-1f59-4a9d-b3fb-5d19a800fc12",
   "metadata": {},
   "outputs": [],
   "source": []
  },
  {
   "cell_type": "code",
   "execution_count": null,
   "id": "8ee5dedc-55cf-4cdd-8084-ea39d1cc434a",
   "metadata": {},
   "outputs": [],
   "source": []
  },
  {
   "cell_type": "code",
   "execution_count": null,
   "id": "00db5b9b-4faa-4098-89f7-951c546bacc9",
   "metadata": {},
   "outputs": [],
   "source": []
  },
  {
   "cell_type": "code",
   "execution_count": null,
   "id": "6393ad4d-7b8c-4449-b2cf-afe6f3312b74",
   "metadata": {},
   "outputs": [],
   "source": []
  },
  {
   "cell_type": "markdown",
   "id": "cadcd657-5e88-4606-957f-ac46d3a514eb",
   "metadata": {},
   "source": [
    "## Testiranje rada samo embedinga bez treniranja"
   ]
  },
  {
   "cell_type": "code",
   "execution_count": null,
   "id": "3b57426b-09a4-4a7b-ad37-a93b9a74c773",
   "metadata": {},
   "outputs": [],
   "source": [
    "similarities = model.similarity(product_2_embeddings, product_1_embeddings)"
   ]
  },
  {
   "cell_type": "code",
   "execution_count": null,
   "id": "e8713797-b0db-4c08-9b81-b848a0128ef1",
   "metadata": {},
   "outputs": [],
   "source": [
    "print(similarities)"
   ]
  },
  {
   "cell_type": "code",
   "execution_count": null,
   "id": "70d672a6-bd81-4db7-911b-adc0b8c4dcc5",
   "metadata": {},
   "outputs": [],
   "source": []
  }
 ],
 "metadata": {
  "kernelspec": {
   "display_name": "Python 3 (ipykernel)",
   "language": "python",
   "name": "python3"
  },
  "language_info": {
   "codemirror_mode": {
    "name": "ipython",
    "version": 3
   },
   "file_extension": ".py",
   "mimetype": "text/x-python",
   "name": "python",
   "nbconvert_exporter": "python",
   "pygments_lexer": "ipython3",
   "version": "3.9.18"
  }
 },
 "nbformat": 4,
 "nbformat_minor": 5
}
